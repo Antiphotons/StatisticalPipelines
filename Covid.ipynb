{
 "cells": [
  {
   "cell_type": "code",
   "execution_count": 3,
   "id": "a8208b4f",
   "metadata": {},
   "outputs": [],
   "source": [
    "import pandas as pd\n",
    "import numpy as np\n",
    "import matplotlib.pyplot as plt\n",
    "import seaborn as sns\n",
    "from scipy.stats import levene, ttest_ind, mannwhitneyu\n",
    "import statsmodels.api as sma\n",
    "import statsmodels.stats as smst\n",
    "from itertools import chain  # list unpacking"
   ]
  },
  {
   "cell_type": "code",
   "execution_count": 4,
   "id": "cfc10a35",
   "metadata": {},
   "outputs": [],
   "source": [
    "# Test equality of variances\n",
    "\n",
    "def var_chk(ser1, ser2):\n",
    "    stats, bf = levene(ser1, ser2, center='median')\n",
    "    return round(bf, 3)"
   ]
  },
  {
   "cell_type": "code",
   "execution_count": 5,
   "id": "584998b7",
   "metadata": {},
   "outputs": [],
   "source": [
    "# Test normality\n",
    "\n",
    "def norm_chk(ser):\n",
    "    norm = smst.diagnostic.lilliefors(ser, pvalmethod='approx')[1]\n",
    "    return round(norm, 3)"
   ]
  },
  {
   "cell_type": "code",
   "execution_count": 6,
   "id": "f36c1223",
   "metadata": {},
   "outputs": [],
   "source": [
    "# Test two series for variance equality and normality; choose and apply compartible test\n",
    "\n",
    "def t_test(ser1, ser2, parameter):\n",
    "    \n",
    "    # Test the conditions\n",
    "    norm1, norm2 = norm_chk(ser1), norm_chk(ser2)  # p-values of Lilliefors tests\n",
    "    bf = var_chk(ser1, ser2)  # p-value of Brown-Forsithe test\n",
    "    normality = norm1 >= 0.05 and norm2 >= 0.05  # both samples are normal\n",
    "    var_eq = bf >= 0.05  # variances of samples are equal\n",
    "    \n",
    "    if var_eq and normality:\n",
    "        t = ttest_ind(ser1, ser2)  # Student's t-test\n",
    "        test = '2-сторонний t-тест Стьюдента'\n",
    "        \n",
    "    elif not var_eq and normality:\n",
    "        t = ttest_ind(ser1, ser2, equal_var = False)  # Welch t-test\n",
    "        test = '2-сторонний t-тест Уэлча'\n",
    "    \n",
    "    elif not normality:\n",
    "        t = mannwhitneyu(ser1, ser2)  # Mann-Whitney test\n",
    "        test = 'Тест Манна-Уитни'\n",
    "    \n",
    "    return [t[0], round(t[1], 3), test, norm1, norm2, bf]"
   ]
  },
  {
   "cell_type": "code",
   "execution_count": 7,
   "id": "9cbbe852",
   "metadata": {},
   "outputs": [],
   "source": [
    "# Plot the histograms and quantille-quantille\n",
    "\n",
    "def norm_plot(ser1, ser2, parameter):\n",
    "    \n",
    "    group = ['_Здор', '_Бол']\n",
    "    \n",
    "    for s in range(2):\n",
    "        ser = [ser1, ser2][s]\n",
    "    \n",
    "        # plot histogram of series\n",
    "        plt.hist(ser)\n",
    "        plt.savefig(parameter[:5] + group[s] + '_hist.png')\n",
    "        plt.clf()\n",
    "    \n",
    "        # plot q-q plot of series\n",
    "        fig = sma.qqplot(ser, fit=True, line=\"45\")\n",
    "        plt.savefig(parameter[:5] + group[s] + '_qq_plot.png')\n",
    "        plt.clf()"
   ]
  },
  {
   "cell_type": "code",
   "execution_count": 8,
   "id": "6578b11d",
   "metadata": {},
   "outputs": [],
   "source": [
    "# Fill NaN values by sample medians\n",
    "\n",
    "def median_fill(ser):\n",
    "    m = ser.median()\n",
    "    for s in range(len(ser)):\n",
    "        if np.isnan(ser[s]): \n",
    "            ser.loc[s] = m\n",
    "    return ser"
   ]
  },
  {
   "cell_type": "code",
   "execution_count": 9,
   "id": "4b74c612",
   "metadata": {},
   "outputs": [],
   "source": [
    "# Compute odds ratio with confidence intervals for two-by-two table\n",
    "\n",
    "def odds_ratio(group1, group2):\n",
    "    a, b, c, d = group1[0], group1[1], group2[0], group2[1]\n",
    "    o_r = (a / b) / (c / d)  # odds ratio\n",
    "    ci_low = np.exp(np.log(o_r) - 1.96 * np.sqrt(1 / a + 1 / b + 1 / c + 1/ d))  # lower confidence interval\n",
    "    ci_up = np.exp(np.log(o_r) + 1.96 * np.sqrt(1 / a + 1 / b + 1 / c + 1/ d))  # Upper confidence interval\n",
    "    \n",
    "    return str(round(o_r, 2)) + ' (CI ' + str(round(ci_low, 2)) + '–' + str(round(ci_up, 2)) + ')'"
   ]
  },
  {
   "cell_type": "code",
   "execution_count": 10,
   "id": "ef7c6efd",
   "metadata": {},
   "outputs": [],
   "source": [
    "# Plot histogram of numbers for two-by-two table\n",
    "\n",
    "def barplot(hlth, dis):\n",
    "    x1 = ['Неболевшие', 'Реконвалесценты']\n",
    "\n",
    "    y1 = [hlth[0], dis[0]]  #  event\n",
    "    y2 = [hlth[1], dis[1]]  # no event\n",
    "\n",
    "\n",
    "    fig, ax = plt.subplots()\n",
    "\n",
    "    ax.bar(x1, y1, width=0.8)\n",
    "    ax.bar(x1, y2, bottom = y1, width=0.8)\n",
    "\n",
    "    fig.set_figwidth(7)    #  ширина и\n",
    "    fig.set_figheight(4)    #  высота \"Figure\"\n",
    "    fig.set_facecolor('floralwhite')\n",
    "    ax.set_facecolor('seashell')\n",
    "    plt.legend(['event', 'no event'], loc='upper left')\n",
    "\n",
    "    plt.show()"
   ]
  },
  {
   "cell_type": "code",
   "execution_count": 11,
   "id": "30fac176",
   "metadata": {},
   "outputs": [],
   "source": [
    "df = pd.read_csv('C:/Kotomin/StatWorks/Covid/Database.csv', sep='\\t')"
   ]
  },
  {
   "cell_type": "code",
   "execution_count": 97,
   "id": "bed8fdac",
   "metadata": {},
   "outputs": [],
   "source": [
    "# patients that had no COVID-19 at the time of screeneng\n",
    "hlth = df[df['COVID-19'] == 'нет'].reset_index(drop=True)\n",
    "\n",
    "# patients that had COVID-19 at the time of screeneng\n",
    "dis = df[df['COVID-19'] == 'да'].reset_index(drop=True)"
   ]
  },
  {
   "cell_type": "code",
   "execution_count": 20,
   "id": "965804d7",
   "metadata": {},
   "outputs": [],
   "source": [
    "parametres = df.columns.tolist()"
   ]
  },
  {
   "cell_type": "markdown",
   "id": "0f74ef06",
   "metadata": {},
   "source": [
    "## Демографические и антропометрические данные"
   ]
  },
  {
   "cell_type": "code",
   "execution_count": 10,
   "id": "0764005d",
   "metadata": {},
   "outputs": [],
   "source": [
    "dem_param = [parametres[3]] + parametres[9:12]"
   ]
  },
  {
   "cell_type": "code",
   "execution_count": 11,
   "id": "607cb358",
   "metadata": {},
   "outputs": [],
   "source": [
    "descr_hlth = hlth[dem_param[0]].astype({'Возраст': float})\n",
    "descr_hlth = round(descr_hlth.describe(), 2)\n",
    "descr_dis = dis[dem_param[0]].astype({'Возраст': float})\n",
    "descr_dis = round(descr_dis.describe(), 2)\n",
    "\n",
    "for p in dem_param[1:]:\n",
    "    d_hlth, d_dis = round(hlth[p].describe(), 2), round(dis[p].describe(), 2)\n",
    "    descr_hlth = pd.concat([descr_hlth, d_hlth], axis=1)\n",
    "    descr_dis = pd.concat([descr_dis, d_dis], axis=1)"
   ]
  },
  {
   "cell_type": "markdown",
   "id": "81e9de01",
   "metadata": {},
   "source": [
    "Неболевшие"
   ]
  },
  {
   "cell_type": "code",
   "execution_count": 14,
   "id": "8b3044a7",
   "metadata": {},
   "outputs": [
    {
     "data": {
      "text/html": [
       "<div>\n",
       "<style scoped>\n",
       "    .dataframe tbody tr th:only-of-type {\n",
       "        vertical-align: middle;\n",
       "    }\n",
       "\n",
       "    .dataframe tbody tr th {\n",
       "        vertical-align: top;\n",
       "    }\n",
       "\n",
       "    .dataframe thead th {\n",
       "        text-align: right;\n",
       "    }\n",
       "</style>\n",
       "<table border=\"1\" class=\"dataframe\">\n",
       "  <thead>\n",
       "    <tr style=\"text-align: right;\">\n",
       "      <th></th>\n",
       "      <th>Возраст</th>\n",
       "      <th>Рост</th>\n",
       "      <th>Вес</th>\n",
       "      <th>ИМТ</th>\n",
       "    </tr>\n",
       "  </thead>\n",
       "  <tbody>\n",
       "    <tr>\n",
       "      <th>count</th>\n",
       "      <td>62.00</td>\n",
       "      <td>62.00</td>\n",
       "      <td>62.00</td>\n",
       "      <td>62.00</td>\n",
       "    </tr>\n",
       "    <tr>\n",
       "      <th>mean</th>\n",
       "      <td>9.11</td>\n",
       "      <td>129.94</td>\n",
       "      <td>31.76</td>\n",
       "      <td>17.78</td>\n",
       "    </tr>\n",
       "    <tr>\n",
       "      <th>std</th>\n",
       "      <td>4.32</td>\n",
       "      <td>23.56</td>\n",
       "      <td>13.85</td>\n",
       "      <td>2.45</td>\n",
       "    </tr>\n",
       "    <tr>\n",
       "      <th>min</th>\n",
       "      <td>2.00</td>\n",
       "      <td>83.00</td>\n",
       "      <td>12.00</td>\n",
       "      <td>13.00</td>\n",
       "    </tr>\n",
       "    <tr>\n",
       "      <th>25%</th>\n",
       "      <td>5.00</td>\n",
       "      <td>107.00</td>\n",
       "      <td>19.00</td>\n",
       "      <td>15.98</td>\n",
       "    </tr>\n",
       "    <tr>\n",
       "      <th>50%</th>\n",
       "      <td>10.00</td>\n",
       "      <td>135.50</td>\n",
       "      <td>30.50</td>\n",
       "      <td>17.55</td>\n",
       "    </tr>\n",
       "    <tr>\n",
       "      <th>75%</th>\n",
       "      <td>12.75</td>\n",
       "      <td>148.25</td>\n",
       "      <td>40.00</td>\n",
       "      <td>19.88</td>\n",
       "    </tr>\n",
       "    <tr>\n",
       "      <th>max</th>\n",
       "      <td>17.00</td>\n",
       "      <td>166.00</td>\n",
       "      <td>64.00</td>\n",
       "      <td>25.00</td>\n",
       "    </tr>\n",
       "  </tbody>\n",
       "</table>\n",
       "</div>"
      ],
      "text/plain": [
       "       Возраст    Рост    Вес    ИМТ\n",
       "count    62.00   62.00  62.00  62.00\n",
       "mean      9.11  129.94  31.76  17.78\n",
       "std       4.32   23.56  13.85   2.45\n",
       "min       2.00   83.00  12.00  13.00\n",
       "25%       5.00  107.00  19.00  15.98\n",
       "50%      10.00  135.50  30.50  17.55\n",
       "75%      12.75  148.25  40.00  19.88\n",
       "max      17.00  166.00  64.00  25.00"
      ]
     },
     "execution_count": 14,
     "metadata": {},
     "output_type": "execute_result"
    }
   ],
   "source": [
    "descr_hlth"
   ]
  },
  {
   "cell_type": "markdown",
   "id": "fe7b915f",
   "metadata": {},
   "source": [
    "Реконвалесценты"
   ]
  },
  {
   "cell_type": "code",
   "execution_count": 15,
   "id": "39d2c0a8",
   "metadata": {},
   "outputs": [
    {
     "data": {
      "text/html": [
       "<div>\n",
       "<style scoped>\n",
       "    .dataframe tbody tr th:only-of-type {\n",
       "        vertical-align: middle;\n",
       "    }\n",
       "\n",
       "    .dataframe tbody tr th {\n",
       "        vertical-align: top;\n",
       "    }\n",
       "\n",
       "    .dataframe thead th {\n",
       "        text-align: right;\n",
       "    }\n",
       "</style>\n",
       "<table border=\"1\" class=\"dataframe\">\n",
       "  <thead>\n",
       "    <tr style=\"text-align: right;\">\n",
       "      <th></th>\n",
       "      <th>Возраст</th>\n",
       "      <th>Рост</th>\n",
       "      <th>Вес</th>\n",
       "      <th>ИМТ</th>\n",
       "    </tr>\n",
       "  </thead>\n",
       "  <tbody>\n",
       "    <tr>\n",
       "      <th>count</th>\n",
       "      <td>201.00</td>\n",
       "      <td>200.00</td>\n",
       "      <td>200.00</td>\n",
       "      <td>200.00</td>\n",
       "    </tr>\n",
       "    <tr>\n",
       "      <th>mean</th>\n",
       "      <td>10.29</td>\n",
       "      <td>137.24</td>\n",
       "      <td>36.24</td>\n",
       "      <td>17.99</td>\n",
       "    </tr>\n",
       "    <tr>\n",
       "      <th>std</th>\n",
       "      <td>5.04</td>\n",
       "      <td>26.42</td>\n",
       "      <td>16.12</td>\n",
       "      <td>3.11</td>\n",
       "    </tr>\n",
       "    <tr>\n",
       "      <th>min</th>\n",
       "      <td>0.17</td>\n",
       "      <td>58.00</td>\n",
       "      <td>5.00</td>\n",
       "      <td>11.50</td>\n",
       "    </tr>\n",
       "    <tr>\n",
       "      <th>25%</th>\n",
       "      <td>6.00</td>\n",
       "      <td>124.00</td>\n",
       "      <td>22.00</td>\n",
       "      <td>15.90</td>\n",
       "    </tr>\n",
       "    <tr>\n",
       "      <th>50%</th>\n",
       "      <td>11.00</td>\n",
       "      <td>146.50</td>\n",
       "      <td>39.00</td>\n",
       "      <td>17.80</td>\n",
       "    </tr>\n",
       "    <tr>\n",
       "      <th>75%</th>\n",
       "      <td>15.00</td>\n",
       "      <td>156.25</td>\n",
       "      <td>49.00</td>\n",
       "      <td>20.10</td>\n",
       "    </tr>\n",
       "    <tr>\n",
       "      <th>max</th>\n",
       "      <td>17.00</td>\n",
       "      <td>174.00</td>\n",
       "      <td>70.00</td>\n",
       "      <td>27.00</td>\n",
       "    </tr>\n",
       "  </tbody>\n",
       "</table>\n",
       "</div>"
      ],
      "text/plain": [
       "       Возраст    Рост     Вес     ИМТ\n",
       "count   201.00  200.00  200.00  200.00\n",
       "mean     10.29  137.24   36.24   17.99\n",
       "std       5.04   26.42   16.12    3.11\n",
       "min       0.17   58.00    5.00   11.50\n",
       "25%       6.00  124.00   22.00   15.90\n",
       "50%      11.00  146.50   39.00   17.80\n",
       "75%      15.00  156.25   49.00   20.10\n",
       "max      17.00  174.00   70.00   27.00"
      ]
     },
     "execution_count": 15,
     "metadata": {},
     "output_type": "execute_result"
    }
   ],
   "source": [
    "descr_dis"
   ]
  },
  {
   "cell_type": "markdown",
   "id": "17e8322d",
   "metadata": {},
   "source": [
    "## Анализ континуальных количественных переменных (continuous variables)"
   ]
  },
  {
   "cell_type": "code",
   "execution_count": 91,
   "id": "2839deb6",
   "metadata": {},
   "outputs": [
    {
     "data": {
      "text/plain": [
       "86"
      ]
     },
     "execution_count": 91,
     "metadata": {},
     "output_type": "execute_result"
    }
   ],
   "source": [
    "parametres.index('эозинофилы')  # Придумать, что с ними делать"
   ]
  },
  {
   "cell_type": "code",
   "execution_count": 59,
   "id": "206330ee",
   "metadata": {},
   "outputs": [],
   "source": [
    "#Descriptive statistics for continuous variables\n",
    "\n",
    "cont_param = parametres[45:47] + parametres[81:85] + parametres[87:91]\n",
    "\n",
    "descr_hlth = round(hlth[cont_param[0]].describe(), 3)\n",
    "descr_dis = round(dis[cont_param[0]].describe(), 3)\n",
    "\n",
    "for p in cont_param[1:]:\n",
    "    d_hlth, d_dis = round(hlth[p].describe(), 3), round(dis[p].describe(), 3)\n",
    "    descr_hlth = pd.concat([descr_hlth, d_hlth], axis=1)\n",
    "    descr_dis = pd.concat([descr_dis, d_dis], axis=1)"
   ]
  },
  {
   "cell_type": "markdown",
   "id": "afdf9b4f",
   "metadata": {},
   "source": [
    "Неболевшие"
   ]
  },
  {
   "cell_type": "code",
   "execution_count": 60,
   "id": "8a0919d3",
   "metadata": {},
   "outputs": [
    {
     "data": {
      "text/html": [
       "<div>\n",
       "<style scoped>\n",
       "    .dataframe tbody tr th:only-of-type {\n",
       "        vertical-align: middle;\n",
       "    }\n",
       "\n",
       "    .dataframe tbody tr th {\n",
       "        vertical-align: top;\n",
       "    }\n",
       "\n",
       "    .dataframe thead th {\n",
       "        text-align: right;\n",
       "    }\n",
       "</style>\n",
       "<table border=\"1\" class=\"dataframe\">\n",
       "  <thead>\n",
       "    <tr style=\"text-align: right;\">\n",
       "      <th></th>\n",
       "      <th>Среднее количество заболеваний ОРВИ в год</th>\n",
       "      <th>Количество заболеваний ОРВИ у ребенка за 2020 год</th>\n",
       "      <th>гемоглобин Г/л</th>\n",
       "      <th>эритроциты</th>\n",
       "      <th>лейкоциты</th>\n",
       "      <th>тромбоциты</th>\n",
       "      <th>нейтрофилы</th>\n",
       "      <th>лимфоциты</th>\n",
       "      <th>моноциты</th>\n",
       "      <th>СОЭ</th>\n",
       "    </tr>\n",
       "  </thead>\n",
       "  <tbody>\n",
       "    <tr>\n",
       "      <th>count</th>\n",
       "      <td>62.000</td>\n",
       "      <td>62.000</td>\n",
       "      <td>62.000</td>\n",
       "      <td>62.000</td>\n",
       "      <td>62.000</td>\n",
       "      <td>62.000</td>\n",
       "      <td>62.000</td>\n",
       "      <td>62.000</td>\n",
       "      <td>62.000</td>\n",
       "      <td>62.000</td>\n",
       "    </tr>\n",
       "    <tr>\n",
       "      <th>mean</th>\n",
       "      <td>2.726</td>\n",
       "      <td>1.919</td>\n",
       "      <td>123.774</td>\n",
       "      <td>4.403</td>\n",
       "      <td>8.203</td>\n",
       "      <td>298.694</td>\n",
       "      <td>48.613</td>\n",
       "      <td>41.613</td>\n",
       "      <td>6.855</td>\n",
       "      <td>9.145</td>\n",
       "    </tr>\n",
       "    <tr>\n",
       "      <th>std</th>\n",
       "      <td>1.203</td>\n",
       "      <td>0.685</td>\n",
       "      <td>9.589</td>\n",
       "      <td>0.706</td>\n",
       "      <td>3.164</td>\n",
       "      <td>110.013</td>\n",
       "      <td>14.296</td>\n",
       "      <td>15.837</td>\n",
       "      <td>2.745</td>\n",
       "      <td>3.328</td>\n",
       "    </tr>\n",
       "    <tr>\n",
       "      <th>min</th>\n",
       "      <td>1.000</td>\n",
       "      <td>1.000</td>\n",
       "      <td>90.000</td>\n",
       "      <td>2.450</td>\n",
       "      <td>2.700</td>\n",
       "      <td>115.000</td>\n",
       "      <td>20.000</td>\n",
       "      <td>11.000</td>\n",
       "      <td>1.000</td>\n",
       "      <td>4.000</td>\n",
       "    </tr>\n",
       "    <tr>\n",
       "      <th>25%</th>\n",
       "      <td>2.000</td>\n",
       "      <td>1.250</td>\n",
       "      <td>120.750</td>\n",
       "      <td>4.000</td>\n",
       "      <td>6.125</td>\n",
       "      <td>225.000</td>\n",
       "      <td>36.000</td>\n",
       "      <td>29.000</td>\n",
       "      <td>5.000</td>\n",
       "      <td>7.000</td>\n",
       "    </tr>\n",
       "    <tr>\n",
       "      <th>50%</th>\n",
       "      <td>2.500</td>\n",
       "      <td>2.000</td>\n",
       "      <td>124.000</td>\n",
       "      <td>4.450</td>\n",
       "      <td>7.700</td>\n",
       "      <td>260.000</td>\n",
       "      <td>47.500</td>\n",
       "      <td>42.000</td>\n",
       "      <td>7.000</td>\n",
       "      <td>9.000</td>\n",
       "    </tr>\n",
       "    <tr>\n",
       "      <th>75%</th>\n",
       "      <td>3.000</td>\n",
       "      <td>2.000</td>\n",
       "      <td>130.000</td>\n",
       "      <td>4.855</td>\n",
       "      <td>10.200</td>\n",
       "      <td>360.000</td>\n",
       "      <td>63.000</td>\n",
       "      <td>54.000</td>\n",
       "      <td>9.000</td>\n",
       "      <td>11.000</td>\n",
       "    </tr>\n",
       "    <tr>\n",
       "      <th>max</th>\n",
       "      <td>6.000</td>\n",
       "      <td>4.000</td>\n",
       "      <td>142.000</td>\n",
       "      <td>6.100</td>\n",
       "      <td>15.600</td>\n",
       "      <td>584.000</td>\n",
       "      <td>74.000</td>\n",
       "      <td>75.000</td>\n",
       "      <td>14.000</td>\n",
       "      <td>21.000</td>\n",
       "    </tr>\n",
       "  </tbody>\n",
       "</table>\n",
       "</div>"
      ],
      "text/plain": [
       "       Среднее количество заболеваний ОРВИ в год  \\\n",
       "count                                     62.000   \n",
       "mean                                       2.726   \n",
       "std                                        1.203   \n",
       "min                                        1.000   \n",
       "25%                                        2.000   \n",
       "50%                                        2.500   \n",
       "75%                                        3.000   \n",
       "max                                        6.000   \n",
       "\n",
       "       Количество заболеваний ОРВИ у ребенка за 2020 год  гемоглобин Г/л  \\\n",
       "count                                             62.000          62.000   \n",
       "mean                                               1.919         123.774   \n",
       "std                                                0.685           9.589   \n",
       "min                                                1.000          90.000   \n",
       "25%                                                1.250         120.750   \n",
       "50%                                                2.000         124.000   \n",
       "75%                                                2.000         130.000   \n",
       "max                                                4.000         142.000   \n",
       "\n",
       "       эритроциты  лейкоциты  тромбоциты  нейтрофилы  лимфоциты  моноциты  \\\n",
       "count      62.000     62.000      62.000      62.000     62.000    62.000   \n",
       "mean        4.403      8.203     298.694      48.613     41.613     6.855   \n",
       "std         0.706      3.164     110.013      14.296     15.837     2.745   \n",
       "min         2.450      2.700     115.000      20.000     11.000     1.000   \n",
       "25%         4.000      6.125     225.000      36.000     29.000     5.000   \n",
       "50%         4.450      7.700     260.000      47.500     42.000     7.000   \n",
       "75%         4.855     10.200     360.000      63.000     54.000     9.000   \n",
       "max         6.100     15.600     584.000      74.000     75.000    14.000   \n",
       "\n",
       "          СОЭ  \n",
       "count  62.000  \n",
       "mean    9.145  \n",
       "std     3.328  \n",
       "min     4.000  \n",
       "25%     7.000  \n",
       "50%     9.000  \n",
       "75%    11.000  \n",
       "max    21.000  "
      ]
     },
     "execution_count": 60,
     "metadata": {},
     "output_type": "execute_result"
    }
   ],
   "source": [
    "descr_hlth"
   ]
  },
  {
   "cell_type": "markdown",
   "id": "c8e31f12",
   "metadata": {},
   "source": [
    "Реконвалесценты"
   ]
  },
  {
   "cell_type": "code",
   "execution_count": 61,
   "id": "f43a5d4f",
   "metadata": {},
   "outputs": [
    {
     "data": {
      "text/html": [
       "<div>\n",
       "<style scoped>\n",
       "    .dataframe tbody tr th:only-of-type {\n",
       "        vertical-align: middle;\n",
       "    }\n",
       "\n",
       "    .dataframe tbody tr th {\n",
       "        vertical-align: top;\n",
       "    }\n",
       "\n",
       "    .dataframe thead th {\n",
       "        text-align: right;\n",
       "    }\n",
       "</style>\n",
       "<table border=\"1\" class=\"dataframe\">\n",
       "  <thead>\n",
       "    <tr style=\"text-align: right;\">\n",
       "      <th></th>\n",
       "      <th>Среднее количество заболеваний ОРВИ в год</th>\n",
       "      <th>Количество заболеваний ОРВИ у ребенка за 2020 год</th>\n",
       "      <th>гемоглобин Г/л</th>\n",
       "      <th>эритроциты</th>\n",
       "      <th>лейкоциты</th>\n",
       "      <th>тромбоциты</th>\n",
       "      <th>нейтрофилы</th>\n",
       "      <th>лимфоциты</th>\n",
       "      <th>моноциты</th>\n",
       "      <th>СОЭ</th>\n",
       "    </tr>\n",
       "  </thead>\n",
       "  <tbody>\n",
       "    <tr>\n",
       "      <th>count</th>\n",
       "      <td>199.000</td>\n",
       "      <td>200.000</td>\n",
       "      <td>201.000</td>\n",
       "      <td>201.000</td>\n",
       "      <td>201.000</td>\n",
       "      <td>201.00</td>\n",
       "      <td>201.000</td>\n",
       "      <td>201.000</td>\n",
       "      <td>201.000</td>\n",
       "      <td>201.000</td>\n",
       "    </tr>\n",
       "    <tr>\n",
       "      <th>mean</th>\n",
       "      <td>3.151</td>\n",
       "      <td>2.550</td>\n",
       "      <td>118.139</td>\n",
       "      <td>4.191</td>\n",
       "      <td>7.955</td>\n",
       "      <td>235.95</td>\n",
       "      <td>48.368</td>\n",
       "      <td>43.960</td>\n",
       "      <td>6.403</td>\n",
       "      <td>6.418</td>\n",
       "    </tr>\n",
       "    <tr>\n",
       "      <th>std</th>\n",
       "      <td>1.131</td>\n",
       "      <td>0.837</td>\n",
       "      <td>12.964</td>\n",
       "      <td>0.673</td>\n",
       "      <td>2.718</td>\n",
       "      <td>86.53</td>\n",
       "      <td>15.484</td>\n",
       "      <td>15.042</td>\n",
       "      <td>2.363</td>\n",
       "      <td>4.217</td>\n",
       "    </tr>\n",
       "    <tr>\n",
       "      <th>min</th>\n",
       "      <td>1.000</td>\n",
       "      <td>1.000</td>\n",
       "      <td>11.000</td>\n",
       "      <td>2.800</td>\n",
       "      <td>3.900</td>\n",
       "      <td>100.00</td>\n",
       "      <td>11.000</td>\n",
       "      <td>7.000</td>\n",
       "      <td>3.000</td>\n",
       "      <td>2.000</td>\n",
       "    </tr>\n",
       "    <tr>\n",
       "      <th>25%</th>\n",
       "      <td>2.000</td>\n",
       "      <td>2.000</td>\n",
       "      <td>112.000</td>\n",
       "      <td>3.700</td>\n",
       "      <td>5.600</td>\n",
       "      <td>180.00</td>\n",
       "      <td>37.000</td>\n",
       "      <td>33.000</td>\n",
       "      <td>6.000</td>\n",
       "      <td>4.000</td>\n",
       "    </tr>\n",
       "    <tr>\n",
       "      <th>50%</th>\n",
       "      <td>3.000</td>\n",
       "      <td>2.000</td>\n",
       "      <td>120.000</td>\n",
       "      <td>4.100</td>\n",
       "      <td>7.600</td>\n",
       "      <td>224.00</td>\n",
       "      <td>50.000</td>\n",
       "      <td>43.000</td>\n",
       "      <td>6.000</td>\n",
       "      <td>5.000</td>\n",
       "    </tr>\n",
       "    <tr>\n",
       "      <th>75%</th>\n",
       "      <td>4.000</td>\n",
       "      <td>3.000</td>\n",
       "      <td>125.000</td>\n",
       "      <td>4.700</td>\n",
       "      <td>10.200</td>\n",
       "      <td>260.00</td>\n",
       "      <td>59.000</td>\n",
       "      <td>56.000</td>\n",
       "      <td>6.000</td>\n",
       "      <td>8.000</td>\n",
       "    </tr>\n",
       "    <tr>\n",
       "      <th>max</th>\n",
       "      <td>8.000</td>\n",
       "      <td>5.000</td>\n",
       "      <td>154.000</td>\n",
       "      <td>5.800</td>\n",
       "      <td>13.600</td>\n",
       "      <td>450.00</td>\n",
       "      <td>86.000</td>\n",
       "      <td>78.000</td>\n",
       "      <td>20.000</td>\n",
       "      <td>23.000</td>\n",
       "    </tr>\n",
       "  </tbody>\n",
       "</table>\n",
       "</div>"
      ],
      "text/plain": [
       "       Среднее количество заболеваний ОРВИ в год  \\\n",
       "count                                    199.000   \n",
       "mean                                       3.151   \n",
       "std                                        1.131   \n",
       "min                                        1.000   \n",
       "25%                                        2.000   \n",
       "50%                                        3.000   \n",
       "75%                                        4.000   \n",
       "max                                        8.000   \n",
       "\n",
       "       Количество заболеваний ОРВИ у ребенка за 2020 год  гемоглобин Г/л  \\\n",
       "count                                            200.000         201.000   \n",
       "mean                                               2.550         118.139   \n",
       "std                                                0.837          12.964   \n",
       "min                                                1.000          11.000   \n",
       "25%                                                2.000         112.000   \n",
       "50%                                                2.000         120.000   \n",
       "75%                                                3.000         125.000   \n",
       "max                                                5.000         154.000   \n",
       "\n",
       "       эритроциты  лейкоциты  тромбоциты  нейтрофилы  лимфоциты  моноциты  \\\n",
       "count     201.000    201.000      201.00     201.000    201.000   201.000   \n",
       "mean        4.191      7.955      235.95      48.368     43.960     6.403   \n",
       "std         0.673      2.718       86.53      15.484     15.042     2.363   \n",
       "min         2.800      3.900      100.00      11.000      7.000     3.000   \n",
       "25%         3.700      5.600      180.00      37.000     33.000     6.000   \n",
       "50%         4.100      7.600      224.00      50.000     43.000     6.000   \n",
       "75%         4.700     10.200      260.00      59.000     56.000     6.000   \n",
       "max         5.800     13.600      450.00      86.000     78.000    20.000   \n",
       "\n",
       "           СОЭ  \n",
       "count  201.000  \n",
       "mean     6.418  \n",
       "std      4.217  \n",
       "min      2.000  \n",
       "25%      4.000  \n",
       "50%      5.000  \n",
       "75%      8.000  \n",
       "max     23.000  "
      ]
     },
     "execution_count": 61,
     "metadata": {},
     "output_type": "execute_result"
    }
   ],
   "source": [
    "descr_dis"
   ]
  },
  {
   "cell_type": "code",
   "execution_count": 64,
   "id": "7f285797",
   "metadata": {},
   "outputs": [],
   "source": [
    "# Table of results for continuous variables\n",
    "cont_result = pd.DataFrame(index=cont_param, columns=['Тестовая статистика', 'p-value', 'Вид теста', 'Lilliefors p здор.', 'Lilliefors p бол.', 'p variances (Brown-Forsithe test)'])\n",
    "\n",
    "# Fill the table\n",
    "for p in cont_param:\n",
    "    \n",
    "    # fill the skipped values by medians\n",
    "    hlth.loc[:, p] = median_fill(hlth.loc[:, p])\n",
    "    dis.loc[:, p] = median_fill(dis.loc[:, p])\n",
    "    \n",
    "    # table filling\n",
    "    cont_result.loc[p] = t_test(hlth[p], dis[p], p)"
   ]
  },
  {
   "cell_type": "code",
   "execution_count": 63,
   "id": "103a8f17",
   "metadata": {},
   "outputs": [
    {
     "name": "stderr",
     "output_type": "stream",
     "text": [
      "c:\\kotomin\\soft\\python\\lib\\site-packages\\statsmodels\\graphics\\utils.py:55: RuntimeWarning: More than 20 figures have been opened. Figures created through the pyplot interface (`matplotlib.pyplot.figure`) are retained until explicitly closed and may consume too much memory. (To control this warning, see the rcParam `figure.max_open_warning`).\n",
      "  fig = plt.figure()\n"
     ]
    },
    {
     "data": {
      "text/plain": [
       "<Figure size 640x480 with 0 Axes>"
      ]
     },
     "metadata": {},
     "output_type": "display_data"
    },
    {
     "data": {
      "text/plain": [
       "<Figure size 640x480 with 0 Axes>"
      ]
     },
     "metadata": {},
     "output_type": "display_data"
    },
    {
     "data": {
      "text/plain": [
       "<Figure size 640x480 with 0 Axes>"
      ]
     },
     "metadata": {},
     "output_type": "display_data"
    },
    {
     "data": {
      "text/plain": [
       "<Figure size 640x480 with 0 Axes>"
      ]
     },
     "metadata": {},
     "output_type": "display_data"
    },
    {
     "data": {
      "text/plain": [
       "<Figure size 640x480 with 0 Axes>"
      ]
     },
     "metadata": {},
     "output_type": "display_data"
    },
    {
     "data": {
      "text/plain": [
       "<Figure size 640x480 with 0 Axes>"
      ]
     },
     "metadata": {},
     "output_type": "display_data"
    },
    {
     "data": {
      "text/plain": [
       "<Figure size 640x480 with 0 Axes>"
      ]
     },
     "metadata": {},
     "output_type": "display_data"
    },
    {
     "data": {
      "text/plain": [
       "<Figure size 640x480 with 0 Axes>"
      ]
     },
     "metadata": {},
     "output_type": "display_data"
    },
    {
     "data": {
      "text/plain": [
       "<Figure size 640x480 with 0 Axes>"
      ]
     },
     "metadata": {},
     "output_type": "display_data"
    },
    {
     "data": {
      "text/plain": [
       "<Figure size 640x480 with 0 Axes>"
      ]
     },
     "metadata": {},
     "output_type": "display_data"
    },
    {
     "data": {
      "text/plain": [
       "<Figure size 640x480 with 0 Axes>"
      ]
     },
     "metadata": {},
     "output_type": "display_data"
    },
    {
     "data": {
      "text/plain": [
       "<Figure size 640x480 with 0 Axes>"
      ]
     },
     "metadata": {},
     "output_type": "display_data"
    },
    {
     "data": {
      "text/plain": [
       "<Figure size 640x480 with 0 Axes>"
      ]
     },
     "metadata": {},
     "output_type": "display_data"
    },
    {
     "data": {
      "text/plain": [
       "<Figure size 640x480 with 0 Axes>"
      ]
     },
     "metadata": {},
     "output_type": "display_data"
    },
    {
     "data": {
      "text/plain": [
       "<Figure size 640x480 with 0 Axes>"
      ]
     },
     "metadata": {},
     "output_type": "display_data"
    },
    {
     "data": {
      "text/plain": [
       "<Figure size 640x480 with 0 Axes>"
      ]
     },
     "metadata": {},
     "output_type": "display_data"
    },
    {
     "data": {
      "text/plain": [
       "<Figure size 640x480 with 0 Axes>"
      ]
     },
     "metadata": {},
     "output_type": "display_data"
    },
    {
     "data": {
      "text/plain": [
       "<Figure size 640x480 with 0 Axes>"
      ]
     },
     "metadata": {},
     "output_type": "display_data"
    },
    {
     "data": {
      "text/plain": [
       "<Figure size 640x480 with 0 Axes>"
      ]
     },
     "metadata": {},
     "output_type": "display_data"
    },
    {
     "data": {
      "text/plain": [
       "<Figure size 640x480 with 0 Axes>"
      ]
     },
     "metadata": {},
     "output_type": "display_data"
    },
    {
     "data": {
      "text/plain": [
       "<Figure size 640x480 with 0 Axes>"
      ]
     },
     "metadata": {},
     "output_type": "display_data"
    }
   ],
   "source": [
    "# histogram and qq plot\n",
    "for p in cont_param:\n",
    "    norm_plot(hlth[p], dis[p], p)"
   ]
  },
  {
   "cell_type": "code",
   "execution_count": 65,
   "id": "7e2f94ae",
   "metadata": {},
   "outputs": [
    {
     "data": {
      "text/html": [
       "<div>\n",
       "<style scoped>\n",
       "    .dataframe tbody tr th:only-of-type {\n",
       "        vertical-align: middle;\n",
       "    }\n",
       "\n",
       "    .dataframe tbody tr th {\n",
       "        vertical-align: top;\n",
       "    }\n",
       "\n",
       "    .dataframe thead th {\n",
       "        text-align: right;\n",
       "    }\n",
       "</style>\n",
       "<table border=\"1\" class=\"dataframe\">\n",
       "  <thead>\n",
       "    <tr style=\"text-align: right;\">\n",
       "      <th></th>\n",
       "      <th>Тестовая статистика</th>\n",
       "      <th>p-value</th>\n",
       "      <th>Вид теста</th>\n",
       "      <th>Lilliefors p здор.</th>\n",
       "      <th>Lilliefors p бол.</th>\n",
       "      <th>p variances (Brown-Forsithe test)</th>\n",
       "    </tr>\n",
       "  </thead>\n",
       "  <tbody>\n",
       "    <tr>\n",
       "      <th>Среднее количество заболеваний ОРВИ в год</th>\n",
       "      <td>4812.0</td>\n",
       "      <td>0.002</td>\n",
       "      <td>Тест Манна-Уитни</td>\n",
       "      <td>0.0</td>\n",
       "      <td>0.0</td>\n",
       "      <td>0.138</td>\n",
       "    </tr>\n",
       "    <tr>\n",
       "      <th>Количество заболеваний ОРВИ у ребенка за 2020 год</th>\n",
       "      <td>3748.5</td>\n",
       "      <td>0.0</td>\n",
       "      <td>Тест Манна-Уитни</td>\n",
       "      <td>0.0</td>\n",
       "      <td>0.0</td>\n",
       "      <td>0.043</td>\n",
       "    </tr>\n",
       "    <tr>\n",
       "      <th>гемоглобин Г/л</th>\n",
       "      <td>4130.0</td>\n",
       "      <td>0.0</td>\n",
       "      <td>Тест Манна-Уитни</td>\n",
       "      <td>0.0</td>\n",
       "      <td>0.0</td>\n",
       "      <td>0.088</td>\n",
       "    </tr>\n",
       "    <tr>\n",
       "      <th>эритроциты</th>\n",
       "      <td>4967.0</td>\n",
       "      <td>0.008</td>\n",
       "      <td>Тест Манна-Уитни</td>\n",
       "      <td>0.097</td>\n",
       "      <td>0.0</td>\n",
       "      <td>0.662</td>\n",
       "    </tr>\n",
       "    <tr>\n",
       "      <th>лейкоциты</th>\n",
       "      <td>5953.0</td>\n",
       "      <td>0.298</td>\n",
       "      <td>Тест Манна-Уитни</td>\n",
       "      <td>0.03</td>\n",
       "      <td>0.0</td>\n",
       "      <td>0.248</td>\n",
       "    </tr>\n",
       "    <tr>\n",
       "      <th>тромбоциты</th>\n",
       "      <td>3982.0</td>\n",
       "      <td>0.0</td>\n",
       "      <td>Тест Манна-Уитни</td>\n",
       "      <td>0.001</td>\n",
       "      <td>0.0</td>\n",
       "      <td>0.013</td>\n",
       "    </tr>\n",
       "    <tr>\n",
       "      <th>нейтрофилы</th>\n",
       "      <td>6103.5</td>\n",
       "      <td>0.404</td>\n",
       "      <td>Тест Манна-Уитни</td>\n",
       "      <td>0.034</td>\n",
       "      <td>0.009</td>\n",
       "      <td>0.751</td>\n",
       "    </tr>\n",
       "    <tr>\n",
       "      <th>лимфоциты</th>\n",
       "      <td>5618.0</td>\n",
       "      <td>0.121</td>\n",
       "      <td>Тест Манна-Уитни</td>\n",
       "      <td>0.004</td>\n",
       "      <td>0.081</td>\n",
       "      <td>0.267</td>\n",
       "    </tr>\n",
       "    <tr>\n",
       "      <th>моноциты</th>\n",
       "      <td>5281.5</td>\n",
       "      <td>0.028</td>\n",
       "      <td>Тест Манна-Уитни</td>\n",
       "      <td>0.197</td>\n",
       "      <td>0.0</td>\n",
       "      <td>0.0</td>\n",
       "    </tr>\n",
       "    <tr>\n",
       "      <th>СОЭ</th>\n",
       "      <td>2935.0</td>\n",
       "      <td>0.0</td>\n",
       "      <td>Тест Манна-Уитни</td>\n",
       "      <td>0.068</td>\n",
       "      <td>0.0</td>\n",
       "      <td>0.839</td>\n",
       "    </tr>\n",
       "  </tbody>\n",
       "</table>\n",
       "</div>"
      ],
      "text/plain": [
       "                                                  Тестовая статистика p-value  \\\n",
       "Среднее количество заболеваний ОРВИ в год                      4812.0   0.002   \n",
       "Количество заболеваний ОРВИ у ребенка за 2020 год              3748.5     0.0   \n",
       "гемоглобин Г/л                                                 4130.0     0.0   \n",
       "эритроциты                                                     4967.0   0.008   \n",
       "лейкоциты                                                      5953.0   0.298   \n",
       "тромбоциты                                                     3982.0     0.0   \n",
       "нейтрофилы                                                     6103.5   0.404   \n",
       "лимфоциты                                                      5618.0   0.121   \n",
       "моноциты                                                       5281.5   0.028   \n",
       "СОЭ                                                            2935.0     0.0   \n",
       "\n",
       "                                                          Вид теста  \\\n",
       "Среднее количество заболеваний ОРВИ в год          Тест Манна-Уитни   \n",
       "Количество заболеваний ОРВИ у ребенка за 2020 год  Тест Манна-Уитни   \n",
       "гемоглобин Г/л                                     Тест Манна-Уитни   \n",
       "эритроциты                                         Тест Манна-Уитни   \n",
       "лейкоциты                                          Тест Манна-Уитни   \n",
       "тромбоциты                                         Тест Манна-Уитни   \n",
       "нейтрофилы                                         Тест Манна-Уитни   \n",
       "лимфоциты                                          Тест Манна-Уитни   \n",
       "моноциты                                           Тест Манна-Уитни   \n",
       "СОЭ                                                Тест Манна-Уитни   \n",
       "\n",
       "                                                  Lilliefors p здор.  \\\n",
       "Среднее количество заболеваний ОРВИ в год                        0.0   \n",
       "Количество заболеваний ОРВИ у ребенка за 2020 год                0.0   \n",
       "гемоглобин Г/л                                                   0.0   \n",
       "эритроциты                                                     0.097   \n",
       "лейкоциты                                                       0.03   \n",
       "тромбоциты                                                     0.001   \n",
       "нейтрофилы                                                     0.034   \n",
       "лимфоциты                                                      0.004   \n",
       "моноциты                                                       0.197   \n",
       "СОЭ                                                            0.068   \n",
       "\n",
       "                                                  Lilliefors p бол.  \\\n",
       "Среднее количество заболеваний ОРВИ в год                       0.0   \n",
       "Количество заболеваний ОРВИ у ребенка за 2020 год               0.0   \n",
       "гемоглобин Г/л                                                  0.0   \n",
       "эритроциты                                                      0.0   \n",
       "лейкоциты                                                       0.0   \n",
       "тромбоциты                                                      0.0   \n",
       "нейтрофилы                                                    0.009   \n",
       "лимфоциты                                                     0.081   \n",
       "моноциты                                                        0.0   \n",
       "СОЭ                                                             0.0   \n",
       "\n",
       "                                                  p variances (Brown-Forsithe test)  \n",
       "Среднее количество заболеваний ОРВИ в год                                     0.138  \n",
       "Количество заболеваний ОРВИ у ребенка за 2020 год                             0.043  \n",
       "гемоглобин Г/л                                                                0.088  \n",
       "эритроциты                                                                    0.662  \n",
       "лейкоциты                                                                     0.248  \n",
       "тромбоциты                                                                    0.013  \n",
       "нейтрофилы                                                                    0.751  \n",
       "лимфоциты                                                                     0.267  \n",
       "моноциты                                                                        0.0  \n",
       "СОЭ                                                                           0.839  "
      ]
     },
     "execution_count": 65,
     "metadata": {},
     "output_type": "execute_result"
    }
   ],
   "source": [
    "cont_result"
   ]
  },
  {
   "cell_type": "code",
   "execution_count": 66,
   "id": "69924d8a",
   "metadata": {},
   "outputs": [
    {
     "data": {
      "image/png": "[encoded data removed]",
      "text/plain": [
       "<Figure size 600x800 with 1 Axes>"
      ]
     },
     "metadata": {},
     "output_type": "display_data"
    },
    {
     "data": {
      "image/png": "[encoded data removed]",
      "text/plain": [
       "<Figure size 600x800 with 1 Axes>"
      ]
     },
     "metadata": {},
     "output_type": "display_data"
    },
    {
     "data": {
      "image/png": "[encoded data removed]",
      "text/plain": [
       "<Figure size 600x800 with 1 Axes>"
      ]
     },
     "metadata": {},
     "output_type": "display_data"
    },
    {
     "data": {
      "image/png": "[encoded data removed]",
      "text/plain": [
       "<Figure size 600x800 with 1 Axes>"
      ]
     },
     "metadata": {},
     "output_type": "display_data"
    },
    {
     "data": {
      "image/png": "[encoded data removed]",
      "text/plain": [
       "<Figure size 600x800 with 1 Axes>"
      ]
     },
     "metadata": {},
     "output_type": "display_data"
    },
    {
     "data": {
      "image/png": "[encoded data removed]",
      "text/plain": [
       "<Figure size 600x800 with 1 Axes>"
      ]
     },
     "metadata": {},
     "output_type": "display_data"
    },
    {
     "data": {
      "image/png": "[encoded data removed]",
      "text/plain": [
       "<Figure size 600x800 with 1 Axes>"
      ]
     },
     "metadata": {},
     "output_type": "display_data"
    },
    {
     "data": {
      "image/png": "[encoded data removed]",
      "text/plain": [
       "<Figure size 600x800 with 1 Axes>"
      ]
     },
     "metadata": {},
     "output_type": "display_data"
    },
    {
     "data": {
      "image/png": "[encoded data removed]",
      "text/plain": [
       "<Figure size 600x800 with 1 Axes>"
      ]
     },
     "metadata": {},
     "output_type": "display_data"
    },
    {
     "data": {
      "image/png": "[encoded data removed]",
      "text/plain": [
       "<Figure size 600x800 with 1 Axes>"
      ]
     },
     "metadata": {},
     "output_type": "display_data"
    }
   ],
   "source": [
    "# verticalization of dataframe\n",
    "\n",
    "vert_df = pd.DataFrame(columns=['Параметр', 'Величина', 'COVID-19'])\n",
    "for p in cont_param:\n",
    "    par_df = pd.Series([p for _ in range(len(df))], name='Параметр')  # for categorial scale\n",
    "    val_df = df[p]  # for continuous scale\n",
    "    val_df.name = 'Величина'\n",
    "    three_df = pd.concat([par_df, val_df, df['COVID-19']], axis=1)  # merge 3 columns in block\n",
    "    vert_df = pd.concat([vert_df, three_df], axis=0)  # merge blocks\n",
    "\n",
    "# Boxplot\n",
    "for p in cont_param:\n",
    "    sns.set_theme(style=\"ticks\")\n",
    "    f, ax = plt.subplots(figsize=(6, 8))\n",
    "\n",
    "    # Plot with vertical boxes\n",
    "    sns.boxplot(data=vert_df[vert_df['Параметр'] == p], x='Параметр', y='Величина', hue='COVID-19', \n",
    "                \n",
    "                orient='v', dodge=True, whis=[2.5, 97.5], width=.2, palette=\"vlag\")\n",
    "\n",
    "    # Add in points to show each observation\n",
    "    # sns.stripplot(data=vert_df, x='Параметр', y='Величина', hue='COVID-19', orient='v', size=4, color=\".3\", linewidth=0)\n",
    "\n",
    "    # Tweak the visual presentation\n",
    "    plt.grid(True)\n",
    "    plt.xticks(rotation=0)\n",
    "    ax.set(ylabel=\"Величина показателя\", xlabel=\"\")\n",
    "    sns.despine(trim=True, left=True)\n",
    "    plt.savefig(p[:7] + '.png')"
   ]
  },
  {
   "cell_type": "markdown",
   "id": "44c7cd37",
   "metadata": {},
   "source": [
    "## Дополнительные количественные параметры, которые есть только для 40 человек"
   ]
  },
  {
   "cell_type": "code",
   "execution_count": 26,
   "id": "2a565087",
   "metadata": {},
   "outputs": [],
   "source": [
    "dop_cont_param = parametres[91:95]\n",
    "\n",
    "descr_hlth = round(hlth[dop_cont_param[0]].describe(), 3)\n",
    "descr_dis = round(dis[dop_cont_param[0]].describe(), 3)\n",
    "\n",
    "for p in dop_cont_param[1:]:\n",
    "    d_hlth, d_dis = round(hlth[p].describe(), 3), round(dis[p].describe(), 3)\n",
    "    descr_hlth = pd.concat([descr_hlth, d_hlth], axis=1)\n",
    "    descr_dis = pd.concat([descr_dis, d_dis], axis=1)"
   ]
  },
  {
   "cell_type": "markdown",
   "id": "2ea5d649",
   "metadata": {},
   "source": [
    "Неболевшие"
   ]
  },
  {
   "cell_type": "code",
   "execution_count": 27,
   "id": "8b7bc09d",
   "metadata": {},
   "outputs": [
    {
     "data": {
      "text/html": [
       "<div>\n",
       "<style scoped>\n",
       "    .dataframe tbody tr th:only-of-type {\n",
       "        vertical-align: middle;\n",
       "    }\n",
       "\n",
       "    .dataframe tbody tr th {\n",
       "        vertical-align: top;\n",
       "    }\n",
       "\n",
       "    .dataframe thead th {\n",
       "        text-align: right;\n",
       "    }\n",
       "</style>\n",
       "<table border=\"1\" class=\"dataframe\">\n",
       "  <thead>\n",
       "    <tr style=\"text-align: right;\">\n",
       "      <th></th>\n",
       "      <th>железо сывороточное</th>\n",
       "      <th>вит Д3</th>\n",
       "      <th>IL-6</th>\n",
       "      <th>IL-10</th>\n",
       "    </tr>\n",
       "  </thead>\n",
       "  <tbody>\n",
       "    <tr>\n",
       "      <th>count</th>\n",
       "      <td>20.000</td>\n",
       "      <td>20.000</td>\n",
       "      <td>20.000</td>\n",
       "      <td>20.000</td>\n",
       "    </tr>\n",
       "    <tr>\n",
       "      <th>mean</th>\n",
       "      <td>10.368</td>\n",
       "      <td>23.615</td>\n",
       "      <td>3.180</td>\n",
       "      <td>22.989</td>\n",
       "    </tr>\n",
       "    <tr>\n",
       "      <th>std</th>\n",
       "      <td>4.681</td>\n",
       "      <td>14.896</td>\n",
       "      <td>10.406</td>\n",
       "      <td>52.104</td>\n",
       "    </tr>\n",
       "    <tr>\n",
       "      <th>min</th>\n",
       "      <td>1.790</td>\n",
       "      <td>7.800</td>\n",
       "      <td>0.040</td>\n",
       "      <td>0.200</td>\n",
       "    </tr>\n",
       "    <tr>\n",
       "      <th>25%</th>\n",
       "      <td>7.098</td>\n",
       "      <td>12.000</td>\n",
       "      <td>0.330</td>\n",
       "      <td>0.325</td>\n",
       "    </tr>\n",
       "    <tr>\n",
       "      <th>50%</th>\n",
       "      <td>10.495</td>\n",
       "      <td>23.100</td>\n",
       "      <td>0.540</td>\n",
       "      <td>0.750</td>\n",
       "    </tr>\n",
       "    <tr>\n",
       "      <th>75%</th>\n",
       "      <td>14.052</td>\n",
       "      <td>26.650</td>\n",
       "      <td>0.805</td>\n",
       "      <td>7.655</td>\n",
       "    </tr>\n",
       "    <tr>\n",
       "      <th>max</th>\n",
       "      <td>17.620</td>\n",
       "      <td>72.200</td>\n",
       "      <td>47.120</td>\n",
       "      <td>167.980</td>\n",
       "    </tr>\n",
       "  </tbody>\n",
       "</table>\n",
       "</div>"
      ],
      "text/plain": [
       "       железо сывороточное  вит Д3    IL-6    IL-10\n",
       "count               20.000  20.000  20.000   20.000\n",
       "mean                10.368  23.615   3.180   22.989\n",
       "std                  4.681  14.896  10.406   52.104\n",
       "min                  1.790   7.800   0.040    0.200\n",
       "25%                  7.098  12.000   0.330    0.325\n",
       "50%                 10.495  23.100   0.540    0.750\n",
       "75%                 14.052  26.650   0.805    7.655\n",
       "max                 17.620  72.200  47.120  167.980"
      ]
     },
     "execution_count": 27,
     "metadata": {},
     "output_type": "execute_result"
    }
   ],
   "source": [
    "descr_hlth"
   ]
  },
  {
   "cell_type": "markdown",
   "id": "a3421db2",
   "metadata": {},
   "source": [
    "Реконвалесценты"
   ]
  },
  {
   "cell_type": "code",
   "execution_count": 28,
   "id": "de10137f",
   "metadata": {},
   "outputs": [
    {
     "data": {
      "text/html": [
       "<div>\n",
       "<style scoped>\n",
       "    .dataframe tbody tr th:only-of-type {\n",
       "        vertical-align: middle;\n",
       "    }\n",
       "\n",
       "    .dataframe tbody tr th {\n",
       "        vertical-align: top;\n",
       "    }\n",
       "\n",
       "    .dataframe thead th {\n",
       "        text-align: right;\n",
       "    }\n",
       "</style>\n",
       "<table border=\"1\" class=\"dataframe\">\n",
       "  <thead>\n",
       "    <tr style=\"text-align: right;\">\n",
       "      <th></th>\n",
       "      <th>железо сывороточное</th>\n",
       "      <th>вит Д3</th>\n",
       "      <th>IL-6</th>\n",
       "      <th>IL-10</th>\n",
       "    </tr>\n",
       "  </thead>\n",
       "  <tbody>\n",
       "    <tr>\n",
       "      <th>count</th>\n",
       "      <td>20.000</td>\n",
       "      <td>20.000</td>\n",
       "      <td>20.000</td>\n",
       "      <td>20.000</td>\n",
       "    </tr>\n",
       "    <tr>\n",
       "      <th>mean</th>\n",
       "      <td>14.375</td>\n",
       "      <td>20.750</td>\n",
       "      <td>3.124</td>\n",
       "      <td>19.661</td>\n",
       "    </tr>\n",
       "    <tr>\n",
       "      <th>std</th>\n",
       "      <td>10.080</td>\n",
       "      <td>12.654</td>\n",
       "      <td>10.857</td>\n",
       "      <td>78.903</td>\n",
       "    </tr>\n",
       "    <tr>\n",
       "      <th>min</th>\n",
       "      <td>1.070</td>\n",
       "      <td>9.200</td>\n",
       "      <td>0.040</td>\n",
       "      <td>0.140</td>\n",
       "    </tr>\n",
       "    <tr>\n",
       "      <th>25%</th>\n",
       "      <td>6.725</td>\n",
       "      <td>12.875</td>\n",
       "      <td>0.175</td>\n",
       "      <td>0.280</td>\n",
       "    </tr>\n",
       "    <tr>\n",
       "      <th>50%</th>\n",
       "      <td>10.015</td>\n",
       "      <td>15.550</td>\n",
       "      <td>0.320</td>\n",
       "      <td>0.650</td>\n",
       "    </tr>\n",
       "    <tr>\n",
       "      <th>75%</th>\n",
       "      <td>22.145</td>\n",
       "      <td>22.375</td>\n",
       "      <td>1.000</td>\n",
       "      <td>1.865</td>\n",
       "    </tr>\n",
       "    <tr>\n",
       "      <th>max</th>\n",
       "      <td>34.460</td>\n",
       "      <td>64.200</td>\n",
       "      <td>48.940</td>\n",
       "      <td>354.380</td>\n",
       "    </tr>\n",
       "  </tbody>\n",
       "</table>\n",
       "</div>"
      ],
      "text/plain": [
       "       железо сывороточное  вит Д3    IL-6    IL-10\n",
       "count               20.000  20.000  20.000   20.000\n",
       "mean                14.375  20.750   3.124   19.661\n",
       "std                 10.080  12.654  10.857   78.903\n",
       "min                  1.070   9.200   0.040    0.140\n",
       "25%                  6.725  12.875   0.175    0.280\n",
       "50%                 10.015  15.550   0.320    0.650\n",
       "75%                 22.145  22.375   1.000    1.865\n",
       "max                 34.460  64.200  48.940  354.380"
      ]
     },
     "execution_count": 28,
     "metadata": {},
     "output_type": "execute_result"
    }
   ],
   "source": [
    "descr_dis"
   ]
  },
  {
   "cell_type": "code",
   "execution_count": 29,
   "id": "0691fbd5",
   "metadata": {},
   "outputs": [],
   "source": [
    "dop_cont_result = pd.DataFrame(index=dop_cont_param, columns=['Тестовая статистика', 'p-value', 'Вид теста', 'Lilliefors p здор.', 'Lilliefors p бол.', 'p variances (Brown-Forsithe test)'])\n",
    "nw_hlth, nw_dis = hlth, dis\n",
    "\n",
    "# Fill the table\n",
    "for p in dop_cont_param:\n",
    "    \n",
    "    # zeroing previous filters\n",
    "    nw_hlth, nw_dis = hlth, dis\n",
    "    \n",
    "    # filter real values\n",
    "    nw_hlth = hlth[hlth[p] > 0]\n",
    "    nw_dis = dis[dis[p] > 0]\n",
    "    \n",
    "    # table filling\n",
    "    dop_cont_result.loc[p] = t_test(nw_hlth[p], nw_dis[p], p)"
   ]
  },
  {
   "cell_type": "code",
   "execution_count": 351,
   "id": "6a8f940e",
   "metadata": {},
   "outputs": [
    {
     "data": {
      "text/plain": [
       "<Figure size 640x480 with 0 Axes>"
      ]
     },
     "metadata": {},
     "output_type": "display_data"
    },
    {
     "data": {
      "text/plain": [
       "<Figure size 640x480 with 0 Axes>"
      ]
     },
     "metadata": {},
     "output_type": "display_data"
    },
    {
     "data": {
      "text/plain": [
       "<Figure size 640x480 with 0 Axes>"
      ]
     },
     "metadata": {},
     "output_type": "display_data"
    },
    {
     "data": {
      "text/plain": [
       "<Figure size 640x480 with 0 Axes>"
      ]
     },
     "metadata": {},
     "output_type": "display_data"
    },
    {
     "data": {
      "text/plain": [
       "<Figure size 640x480 with 0 Axes>"
      ]
     },
     "metadata": {},
     "output_type": "display_data"
    },
    {
     "data": {
      "text/plain": [
       "<Figure size 640x480 with 0 Axes>"
      ]
     },
     "metadata": {},
     "output_type": "display_data"
    },
    {
     "data": {
      "text/plain": [
       "<Figure size 640x480 with 0 Axes>"
      ]
     },
     "metadata": {},
     "output_type": "display_data"
    },
    {
     "data": {
      "text/plain": [
       "<Figure size 640x480 with 0 Axes>"
      ]
     },
     "metadata": {},
     "output_type": "display_data"
    },
    {
     "data": {
      "text/plain": [
       "<Figure size 640x480 with 0 Axes>"
      ]
     },
     "metadata": {},
     "output_type": "display_data"
    }
   ],
   "source": [
    "# histogram and qq plot\n",
    "for p in dop_cont_param:\n",
    "    norm_plot(nw_hlth[p], nw_dis[p], p)"
   ]
  },
  {
   "cell_type": "code",
   "execution_count": 30,
   "id": "ab6554b2",
   "metadata": {
    "scrolled": true
   },
   "outputs": [
    {
     "data": {
      "text/html": [
       "<div>\n",
       "<style scoped>\n",
       "    .dataframe tbody tr th:only-of-type {\n",
       "        vertical-align: middle;\n",
       "    }\n",
       "\n",
       "    .dataframe tbody tr th {\n",
       "        vertical-align: top;\n",
       "    }\n",
       "\n",
       "    .dataframe thead th {\n",
       "        text-align: right;\n",
       "    }\n",
       "</style>\n",
       "<table border=\"1\" class=\"dataframe\">\n",
       "  <thead>\n",
       "    <tr style=\"text-align: right;\">\n",
       "      <th></th>\n",
       "      <th>Тестовая статистика</th>\n",
       "      <th>p-value</th>\n",
       "      <th>Вид теста</th>\n",
       "      <th>Lilliefors p здор.</th>\n",
       "      <th>Lilliefors p бол.</th>\n",
       "      <th>p variances (Brown-Forsithe test)</th>\n",
       "    </tr>\n",
       "  </thead>\n",
       "  <tbody>\n",
       "    <tr>\n",
       "      <th>железо сывороточное</th>\n",
       "      <td>-1.612333</td>\n",
       "      <td>0.119</td>\n",
       "      <td>2-сторонний t-тест Уэлча</td>\n",
       "      <td>0.468</td>\n",
       "      <td>0.051</td>\n",
       "      <td>0.016</td>\n",
       "    </tr>\n",
       "    <tr>\n",
       "      <th>вит Д3</th>\n",
       "      <td>172.5</td>\n",
       "      <td>0.233</td>\n",
       "      <td>Тест Манна-Уитни</td>\n",
       "      <td>0.021</td>\n",
       "      <td>0.017</td>\n",
       "      <td>0.549</td>\n",
       "    </tr>\n",
       "    <tr>\n",
       "      <th>IL-6</th>\n",
       "      <td>162.5</td>\n",
       "      <td>0.158</td>\n",
       "      <td>Тест Манна-Уитни</td>\n",
       "      <td>0.0</td>\n",
       "      <td>0.0</td>\n",
       "      <td>0.977</td>\n",
       "    </tr>\n",
       "    <tr>\n",
       "      <th>IL-10</th>\n",
       "      <td>176.0</td>\n",
       "      <td>0.262</td>\n",
       "      <td>Тест Манна-Уитни</td>\n",
       "      <td>0.0</td>\n",
       "      <td>0.0</td>\n",
       "      <td>0.877</td>\n",
       "    </tr>\n",
       "  </tbody>\n",
       "</table>\n",
       "</div>"
      ],
      "text/plain": [
       "                    Тестовая статистика p-value                 Вид теста  \\\n",
       "железо сывороточное           -1.612333   0.119  2-сторонний t-тест Уэлча   \n",
       "вит Д3                            172.5   0.233          Тест Манна-Уитни   \n",
       "IL-6                              162.5   0.158          Тест Манна-Уитни   \n",
       "IL-10                             176.0   0.262          Тест Манна-Уитни   \n",
       "\n",
       "                    Lilliefors p здор. Lilliefors p бол.  \\\n",
       "железо сывороточное              0.468             0.051   \n",
       "вит Д3                           0.021             0.017   \n",
       "IL-6                               0.0               0.0   \n",
       "IL-10                              0.0               0.0   \n",
       "\n",
       "                    p variances (Brown-Forsithe test)  \n",
       "железо сывороточное                             0.016  \n",
       "вит Д3                                          0.549  \n",
       "IL-6                                            0.977  \n",
       "IL-10                                           0.877  "
      ]
     },
     "execution_count": 30,
     "metadata": {},
     "output_type": "execute_result"
    }
   ],
   "source": [
    "dop_cont_result"
   ]
  },
  {
   "cell_type": "code",
   "execution_count": 44,
   "id": "3913075f",
   "metadata": {},
   "outputs": [
    {
     "data": {
      "image/png": "[encoded data removed]",
      "text/plain": [
       "<Figure size 600x800 with 1 Axes>"
      ]
     },
     "metadata": {},
     "output_type": "display_data"
    },
    {
     "data": {
      "image/png": "[encoded data removed]",
      "text/plain": [
       "<Figure size 600x800 with 1 Axes>"
      ]
     },
     "metadata": {},
     "output_type": "display_data"
    },
    {
     "data": {
      "image/png": "[encoded data removed]",
      "text/plain": [
       "<Figure size 600x800 with 1 Axes>"
      ]
     },
     "metadata": {},
     "output_type": "display_data"
    },
    {
     "data": {
      "image/png": "[encoded data removed]",
      "text/plain": [
       "<Figure size 600x800 with 1 Axes>"
      ]
     },
     "metadata": {},
     "output_type": "display_data"
    }
   ],
   "source": [
    "# verticalization of dataframe\n",
    "\n",
    "vert_df = pd.DataFrame(columns=['Параметр', 'Величина', 'COVID-19'])\n",
    "for p in dop_cont_param:\n",
    "    par_df = pd.Series([p for _ in range(len(df))], name='Параметр')  # for categorial scale\n",
    "    val_df = df[p]  # for continuous scale\n",
    "    val_df.name = 'Величина'\n",
    "    three_df = pd.concat([par_df, val_df, df['COVID-19']], axis=1)  # merge 3 columns in block\n",
    "    vert_df = pd.concat([vert_df, three_df], axis=0)  # merge blocks\n",
    "\n",
    "# Boxplot\n",
    "for p in dop_cont_param:\n",
    "    sns.set_theme(style=\"ticks\")\n",
    "    f, ax = plt.subplots(figsize=(6, 8))\n",
    "    \n",
    "    # (for log y scale) ax.set_yscale(\"log\")\n",
    "\n",
    "    # Plot with vertical boxes\n",
    "    sns.boxplot(data=vert_df[vert_df['Параметр'] == p], x='Параметр', y='Величина', hue='COVID-19', \n",
    "                \n",
    "                orient='v', dodge=True, whis=[2.5, 97.5], width=.2, palette=\"vlag\")\n",
    "\n",
    "    # Add in points to show each observation\n",
    "    # sns.stripplot(data=vert_df, x='Параметр', y='Величина', hue='COVID-19', orient='v', size=4, color=\".3\", linewidth=0)\n",
    "\n",
    "    # Tweak the visual presentation\n",
    "    plt.grid(True)\n",
    "    plt.xticks(rotation=0)\n",
    "    ax.set(ylabel=\"Величина показателя\", xlabel=\"\")\n",
    "    sns.despine(trim=True, left=True)\n",
    "    plt.savefig(p[:7] + '.png')"
   ]
  },
  {
   "cell_type": "markdown",
   "id": "82df23e4",
   "metadata": {},
   "source": [
    "## Категориальные переменные"
   ]
  },
  {
   "cell_type": "code",
   "execution_count": 98,
   "id": "e9b40041",
   "metadata": {},
   "outputs": [],
   "source": [
    "# \"да\"\n",
    "cat_param_y = parametres[12:14] + [parametres[16]] + [parametres[55]] + [parametres[65]] + [parametres[79]]\n",
    "\n",
    "# единички\n",
    "cat_param_03 = parametres[18:27]\n",
    "cat_param_37 = parametres[27:36]  # старше двух лет, единички\n",
    "cat_param_7 = parametres[36:45]  # старше шести лет, единички\n",
    "cat_param_chr = parametres[47:55]  # единички \n",
    "cat_param_sym = parametres[67:77] + [parametres[78]]  # единички\n",
    "cat_param_bas = [parametres[85]]  # единички\n",
    "\n",
    "# все единички\n",
    "cat_param_1 = cat_param_03 + cat_param_37 + cat_param_7 + cat_param_chr + cat_param_sym + cat_param_bas\n",
    "\n",
    "# специфические\n",
    "\n",
    "cat_param_d = parametres[56:60]   # единички, против колонки 58 (не принимает витамин Д)\n",
    "\n",
    "cat_param_edu = parametres[4:8]  # образовательные учреждения\n",
    "cat_param_feed = [parametres[17]]  # 4 категории времени вскармливания\n",
    "cat_param_yn = parametres[62:65] # в колонке ответы \"да\" или \"нет\", другие не учитываем\n",
    "cat_param_male = [parametres[8]]  # Пол - \"муж\" или ничего\n",
    "cat_param_time = [parametres[14]]  # Срок родов, 3 категории - \"преждевременные\", \"запоздалые\" или ничего\n",
    "cat_param_birt = [parametres[15]]  # Родоразрешение \"самопроизвольное\" или \"кесарево\"\n",
    "\n",
    "# исключили\n",
    "cat_param_nochr = [parametres[54]]  # единички означают отсутствие события (нет хронических), пропуски - присутствие\n",
    "# но по факту данные в таблице неадекватные"
   ]
  },
  {
   "cell_type": "code",
   "execution_count": 105,
   "id": "ea9d76cc",
   "metadata": {},
   "outputs": [],
   "source": [
    "# Dataframe with events\n",
    "\n",
    "cat_cols = ['Реконвалесценты – да', 'Реконвалесценты – нет', 'Неболевшие – да', 'Неболевшие – нет']\n",
    "cat_df = pd.DataFrame(columns=cat_cols)\n",
    "\n",
    "# variables with value only \"да\"\n",
    "for p in cat_param_y:\n",
    "    a = dis[dis[p] == 'да'].loc[:, p].count()\n",
    "    b = len(dis.loc[:, p]) - a\n",
    "    c = hlth[hlth[p] == 'да'].loc[:, p].count()\n",
    "    d = len(hlth.loc[:, p]) - c\n",
    "    cat_df.loc[p] = [a, b, c, d]\n",
    "\n",
    "# variables with value only \"1\"\n",
    "for p in cat_param_1:\n",
    "    \n",
    "    # replace str elements with 1\n",
    "    for i in range(len(dis.loc[:, p])):\n",
    "        if type(dis.loc[i, p]) == str:\n",
    "            dis.loc[i, p] = 1\n",
    "    for i in range(len(hlth.loc[:, p])):\n",
    "        if type(hlth.loc[i, p]) == str:            \n",
    "            hlth.loc[i, p] = 1\n",
    "    \n",
    "    a = dis.loc[:, p].sum()\n",
    "    b = len(dis.loc[:, p]) - a\n",
    "    c = hlth.loc[:, p].sum()\n",
    "    d = len(hlth.loc[:, p]) - c\n",
    "    cat_df.loc[p] = [int(i) for i  in [a, b, c, d]]"
   ]
  },
  {
   "cell_type": "code",
   "execution_count": 106,
   "id": "9724c74c",
   "metadata": {},
   "outputs": [
    {
     "data": {
      "text/html": [
       "<div>\n",
       "<style scoped>\n",
       "    .dataframe tbody tr th:only-of-type {\n",
       "        vertical-align: middle;\n",
       "    }\n",
       "\n",
       "    .dataframe tbody tr th {\n",
       "        vertical-align: top;\n",
       "    }\n",
       "\n",
       "    .dataframe thead th {\n",
       "        text-align: right;\n",
       "    }\n",
       "</style>\n",
       "<table border=\"1\" class=\"dataframe\">\n",
       "  <thead>\n",
       "    <tr style=\"text-align: right;\">\n",
       "      <th></th>\n",
       "      <th>Реконвалесценты – да</th>\n",
       "      <th>Реконвалесценты – нет</th>\n",
       "      <th>Неболевшие – да</th>\n",
       "      <th>Неболевшие – нет</th>\n",
       "    </tr>\n",
       "  </thead>\n",
       "  <tbody>\n",
       "    <tr>\n",
       "      <th>Осложнения при беременности</th>\n",
       "      <td>103</td>\n",
       "      <td>98</td>\n",
       "      <td>15</td>\n",
       "      <td>47</td>\n",
       "    </tr>\n",
       "    <tr>\n",
       "      <th>Болезни матери во время беременности</th>\n",
       "      <td>69</td>\n",
       "      <td>132</td>\n",
       "      <td>15</td>\n",
       "      <td>47</td>\n",
       "    </tr>\n",
       "    <tr>\n",
       "      <th>Осложнения в родах</th>\n",
       "      <td>26</td>\n",
       "      <td>175</td>\n",
       "      <td>9</td>\n",
       "      <td>53</td>\n",
       "    </tr>\n",
       "    <tr>\n",
       "      <th>Принимал ли ваш ребенок витамин D</th>\n",
       "      <td>193</td>\n",
       "      <td>8</td>\n",
       "      <td>58</td>\n",
       "      <td>4</td>\n",
       "    </tr>\n",
       "    <tr>\n",
       "      <th>Были клинические симптомы COVID-19 у ребенка</th>\n",
       "      <td>182</td>\n",
       "      <td>19</td>\n",
       "      <td>23</td>\n",
       "      <td>39</td>\n",
       "    </tr>\n",
       "    <tr>\n",
       "      <th>Находился ли ребенок на карантине из-за COVID-19</th>\n",
       "      <td>167</td>\n",
       "      <td>34</td>\n",
       "      <td>7</td>\n",
       "      <td>55</td>\n",
       "    </tr>\n",
       "    <tr>\n",
       "      <th>анемия &lt;3</th>\n",
       "      <td>21</td>\n",
       "      <td>180</td>\n",
       "      <td>6</td>\n",
       "      <td>56</td>\n",
       "    </tr>\n",
       "    <tr>\n",
       "      <th>неврологическая патология (тики, энурез) &lt;3</th>\n",
       "      <td>13</td>\n",
       "      <td>188</td>\n",
       "      <td>3</td>\n",
       "      <td>59</td>\n",
       "    </tr>\n",
       "    <tr>\n",
       "      <th>ОРВИ &lt;3</th>\n",
       "      <td>28</td>\n",
       "      <td>173</td>\n",
       "      <td>16</td>\n",
       "      <td>46</td>\n",
       "    </tr>\n",
       "    <tr>\n",
       "      <th>аллергические заболевания &lt;3</th>\n",
       "      <td>11</td>\n",
       "      <td>190</td>\n",
       "      <td>7</td>\n",
       "      <td>55</td>\n",
       "    </tr>\n",
       "    <tr>\n",
       "      <th>аденоиды &lt;3</th>\n",
       "      <td>2</td>\n",
       "      <td>199</td>\n",
       "      <td>2</td>\n",
       "      <td>60</td>\n",
       "    </tr>\n",
       "    <tr>\n",
       "      <th>ангина &lt;3</th>\n",
       "      <td>5</td>\n",
       "      <td>196</td>\n",
       "      <td>4</td>\n",
       "      <td>58</td>\n",
       "    </tr>\n",
       "    <tr>\n",
       "      <th>трахеиты, бронхиты &lt;3</th>\n",
       "      <td>10</td>\n",
       "      <td>191</td>\n",
       "      <td>9</td>\n",
       "      <td>53</td>\n",
       "    </tr>\n",
       "    <tr>\n",
       "      <th>кишечные инфекции &lt;3</th>\n",
       "      <td>14</td>\n",
       "      <td>187</td>\n",
       "      <td>5</td>\n",
       "      <td>57</td>\n",
       "    </tr>\n",
       "    <tr>\n",
       "      <th>другое &lt;3</th>\n",
       "      <td>5</td>\n",
       "      <td>196</td>\n",
       "      <td>1</td>\n",
       "      <td>61</td>\n",
       "    </tr>\n",
       "    <tr>\n",
       "      <th>анемия &lt;7</th>\n",
       "      <td>3</td>\n",
       "      <td>198</td>\n",
       "      <td>4</td>\n",
       "      <td>58</td>\n",
       "    </tr>\n",
       "    <tr>\n",
       "      <th>неврологическая патология (тики, энурез) &lt;7</th>\n",
       "      <td>8</td>\n",
       "      <td>193</td>\n",
       "      <td>1</td>\n",
       "      <td>61</td>\n",
       "    </tr>\n",
       "    <tr>\n",
       "      <th>ОРВИ &lt;7</th>\n",
       "      <td>99</td>\n",
       "      <td>102</td>\n",
       "      <td>42</td>\n",
       "      <td>20</td>\n",
       "    </tr>\n",
       "    <tr>\n",
       "      <th>аллергические заболевания &lt;7</th>\n",
       "      <td>21</td>\n",
       "      <td>180</td>\n",
       "      <td>4</td>\n",
       "      <td>58</td>\n",
       "    </tr>\n",
       "    <tr>\n",
       "      <th>аденоиды &lt;7</th>\n",
       "      <td>13</td>\n",
       "      <td>188</td>\n",
       "      <td>2</td>\n",
       "      <td>60</td>\n",
       "    </tr>\n",
       "    <tr>\n",
       "      <th>ангина &lt;7</th>\n",
       "      <td>18</td>\n",
       "      <td>183</td>\n",
       "      <td>5</td>\n",
       "      <td>57</td>\n",
       "    </tr>\n",
       "    <tr>\n",
       "      <th>трахеиты, бронхиты &lt;7</th>\n",
       "      <td>51</td>\n",
       "      <td>150</td>\n",
       "      <td>10</td>\n",
       "      <td>52</td>\n",
       "    </tr>\n",
       "    <tr>\n",
       "      <th>кишечные инфекции &lt;7</th>\n",
       "      <td>22</td>\n",
       "      <td>179</td>\n",
       "      <td>7</td>\n",
       "      <td>55</td>\n",
       "    </tr>\n",
       "    <tr>\n",
       "      <th>другое &lt;7</th>\n",
       "      <td>3</td>\n",
       "      <td>198</td>\n",
       "      <td>2</td>\n",
       "      <td>60</td>\n",
       "    </tr>\n",
       "    <tr>\n",
       "      <th>анемия &gt;7</th>\n",
       "      <td>9</td>\n",
       "      <td>192</td>\n",
       "      <td>2</td>\n",
       "      <td>60</td>\n",
       "    </tr>\n",
       "    <tr>\n",
       "      <th>неврологическая патология (тики, энурез) &gt;7</th>\n",
       "      <td>4</td>\n",
       "      <td>197</td>\n",
       "      <td>0</td>\n",
       "      <td>62</td>\n",
       "    </tr>\n",
       "    <tr>\n",
       "      <th>ОРВИ &gt;7</th>\n",
       "      <td>82</td>\n",
       "      <td>119</td>\n",
       "      <td>22</td>\n",
       "      <td>40</td>\n",
       "    </tr>\n",
       "    <tr>\n",
       "      <th>аллергические заболевания &gt;7</th>\n",
       "      <td>12</td>\n",
       "      <td>189</td>\n",
       "      <td>2</td>\n",
       "      <td>60</td>\n",
       "    </tr>\n",
       "    <tr>\n",
       "      <th>аденоиды &gt;7</th>\n",
       "      <td>5</td>\n",
       "      <td>196</td>\n",
       "      <td>0</td>\n",
       "      <td>62</td>\n",
       "    </tr>\n",
       "    <tr>\n",
       "      <th>ангина &gt;7</th>\n",
       "      <td>11</td>\n",
       "      <td>190</td>\n",
       "      <td>4</td>\n",
       "      <td>58</td>\n",
       "    </tr>\n",
       "    <tr>\n",
       "      <th>трахеиты, бронхиты &gt;7</th>\n",
       "      <td>62</td>\n",
       "      <td>139</td>\n",
       "      <td>7</td>\n",
       "      <td>55</td>\n",
       "    </tr>\n",
       "    <tr>\n",
       "      <th>кишечные инфекции &gt;7</th>\n",
       "      <td>15</td>\n",
       "      <td>186</td>\n",
       "      <td>2</td>\n",
       "      <td>60</td>\n",
       "    </tr>\n",
       "    <tr>\n",
       "      <th>другое &gt;7</th>\n",
       "      <td>3</td>\n",
       "      <td>198</td>\n",
       "      <td>0</td>\n",
       "      <td>62</td>\n",
       "    </tr>\n",
       "    <tr>\n",
       "      <th>Атопический дерматит</th>\n",
       "      <td>9</td>\n",
       "      <td>192</td>\n",
       "      <td>3</td>\n",
       "      <td>59</td>\n",
       "    </tr>\n",
       "    <tr>\n",
       "      <th>Тубинфецирование</th>\n",
       "      <td>5</td>\n",
       "      <td>196</td>\n",
       "      <td>0</td>\n",
       "      <td>62</td>\n",
       "    </tr>\n",
       "    <tr>\n",
       "      <th>Заболевание ЖКТ</th>\n",
       "      <td>12</td>\n",
       "      <td>189</td>\n",
       "      <td>0</td>\n",
       "      <td>62</td>\n",
       "    </tr>\n",
       "    <tr>\n",
       "      <th>Нарушение осанки</th>\n",
       "      <td>5</td>\n",
       "      <td>196</td>\n",
       "      <td>1</td>\n",
       "      <td>61</td>\n",
       "    </tr>\n",
       "    <tr>\n",
       "      <th>Бронхиальная астма</th>\n",
       "      <td>2</td>\n",
       "      <td>199</td>\n",
       "      <td>0</td>\n",
       "      <td>62</td>\n",
       "    </tr>\n",
       "    <tr>\n",
       "      <th>ЛОР-заболевания</th>\n",
       "      <td>8</td>\n",
       "      <td>193</td>\n",
       "      <td>6</td>\n",
       "      <td>56</td>\n",
       "    </tr>\n",
       "    <tr>\n",
       "      <th>Другая патология (указать)</th>\n",
       "      <td>5</td>\n",
       "      <td>196</td>\n",
       "      <td>4</td>\n",
       "      <td>58</td>\n",
       "    </tr>\n",
       "    <tr>\n",
       "      <th>Нет хронических</th>\n",
       "      <td>148</td>\n",
       "      <td>53</td>\n",
       "      <td>1</td>\n",
       "      <td>61</td>\n",
       "    </tr>\n",
       "    <tr>\n",
       "      <th>тем37,2-38</th>\n",
       "      <td>121</td>\n",
       "      <td>80</td>\n",
       "      <td>10</td>\n",
       "      <td>52</td>\n",
       "    </tr>\n",
       "    <tr>\n",
       "      <th>темп 38,1-39</th>\n",
       "      <td>43</td>\n",
       "      <td>158</td>\n",
       "      <td>10</td>\n",
       "      <td>52</td>\n",
       "    </tr>\n",
       "    <tr>\n",
       "      <th>тем39,1-40</th>\n",
       "      <td>8</td>\n",
       "      <td>193</td>\n",
       "      <td>2</td>\n",
       "      <td>60</td>\n",
       "    </tr>\n",
       "    <tr>\n",
       "      <th>темп &gt;41</th>\n",
       "      <td>0</td>\n",
       "      <td>201</td>\n",
       "      <td>0</td>\n",
       "      <td>62</td>\n",
       "    </tr>\n",
       "    <tr>\n",
       "      <th>Кашель</th>\n",
       "      <td>51</td>\n",
       "      <td>150</td>\n",
       "      <td>11</td>\n",
       "      <td>51</td>\n",
       "    </tr>\n",
       "    <tr>\n",
       "      <th>Насморк</th>\n",
       "      <td>99</td>\n",
       "      <td>102</td>\n",
       "      <td>16</td>\n",
       "      <td>46</td>\n",
       "    </tr>\n",
       "    <tr>\n",
       "      <th>Заложенность носа</th>\n",
       "      <td>119</td>\n",
       "      <td>82</td>\n",
       "      <td>10</td>\n",
       "      <td>52</td>\n",
       "    </tr>\n",
       "    <tr>\n",
       "      <th>Потеря обоняния</th>\n",
       "      <td>36</td>\n",
       "      <td>165</td>\n",
       "      <td>5</td>\n",
       "      <td>57</td>\n",
       "    </tr>\n",
       "    <tr>\n",
       "      <th>Затрудненное дыхание</th>\n",
       "      <td>6</td>\n",
       "      <td>195</td>\n",
       "      <td>0</td>\n",
       "      <td>62</td>\n",
       "    </tr>\n",
       "    <tr>\n",
       "      <th>першение в горле</th>\n",
       "      <td>60</td>\n",
       "      <td>141</td>\n",
       "      <td>8</td>\n",
       "      <td>54</td>\n",
       "    </tr>\n",
       "    <tr>\n",
       "      <th>утомляемость</th>\n",
       "      <td>59</td>\n",
       "      <td>142</td>\n",
       "      <td>55</td>\n",
       "      <td>7</td>\n",
       "    </tr>\n",
       "    <tr>\n",
       "      <th>базофилы</th>\n",
       "      <td>7</td>\n",
       "      <td>194</td>\n",
       "      <td>0</td>\n",
       "      <td>62</td>\n",
       "    </tr>\n",
       "  </tbody>\n",
       "</table>\n",
       "</div>"
      ],
      "text/plain": [
       "                                                  Реконвалесценты – да  \\\n",
       "Осложнения при беременности                                        103   \n",
       "Болезни матери во время беременности                                69   \n",
       "Осложнения в родах                                                  26   \n",
       "Принимал ли ваш ребенок витамин D                                  193   \n",
       "Были клинические симптомы COVID-19 у ребенка                       182   \n",
       "Находился ли ребенок на карантине из-за COVID-19                   167   \n",
       "анемия <3                                                           21   \n",
       "неврологическая патология (тики, энурез) <3                         13   \n",
       "ОРВИ <3                                                             28   \n",
       "аллергические заболевания <3                                        11   \n",
       "аденоиды <3                                                          2   \n",
       "ангина <3                                                            5   \n",
       "трахеиты, бронхиты <3                                               10   \n",
       "кишечные инфекции <3                                                14   \n",
       "другое <3                                                            5   \n",
       "анемия <7                                                            3   \n",
       "неврологическая патология (тики, энурез) <7                          8   \n",
       "ОРВИ <7                                                             99   \n",
       "аллергические заболевания <7                                        21   \n",
       "аденоиды <7                                                         13   \n",
       "ангина <7                                                           18   \n",
       "трахеиты, бронхиты <7                                               51   \n",
       "кишечные инфекции <7                                                22   \n",
       "другое <7                                                            3   \n",
       "анемия >7                                                            9   \n",
       "неврологическая патология (тики, энурез) >7                          4   \n",
       "ОРВИ >7                                                             82   \n",
       "аллергические заболевания >7                                        12   \n",
       "аденоиды >7                                                          5   \n",
       "ангина >7                                                           11   \n",
       "трахеиты, бронхиты >7                                               62   \n",
       "кишечные инфекции >7                                                15   \n",
       "другое >7                                                            3   \n",
       "Атопический дерматит                                                 9   \n",
       "Тубинфецирование                                                     5   \n",
       "Заболевание ЖКТ                                                     12   \n",
       "Нарушение осанки                                                     5   \n",
       "Бронхиальная астма                                                   2   \n",
       "ЛОР-заболевания                                                      8   \n",
       "Другая патология (указать)                                           5   \n",
       "Нет хронических                                                    148   \n",
       "тем37,2-38                                                         121   \n",
       "темп 38,1-39                                                        43   \n",
       "тем39,1-40                                                           8   \n",
       "темп >41                                                             0   \n",
       "Кашель                                                              51   \n",
       "Насморк                                                             99   \n",
       "Заложенность носа                                                  119   \n",
       "Потеря обоняния                                                     36   \n",
       "Затрудненное дыхание                                                 6   \n",
       "першение в горле                                                    60   \n",
       "утомляемость                                                        59   \n",
       "базофилы                                                             7   \n",
       "\n",
       "                                                  Реконвалесценты – нет  \\\n",
       "Осложнения при беременности                                          98   \n",
       "Болезни матери во время беременности                                132   \n",
       "Осложнения в родах                                                  175   \n",
       "Принимал ли ваш ребенок витамин D                                     8   \n",
       "Были клинические симптомы COVID-19 у ребенка                         19   \n",
       "Находился ли ребенок на карантине из-за COVID-19                     34   \n",
       "анемия <3                                                           180   \n",
       "неврологическая патология (тики, энурез) <3                         188   \n",
       "ОРВИ <3                                                             173   \n",
       "аллергические заболевания <3                                        190   \n",
       "аденоиды <3                                                         199   \n",
       "ангина <3                                                           196   \n",
       "трахеиты, бронхиты <3                                               191   \n",
       "кишечные инфекции <3                                                187   \n",
       "другое <3                                                           196   \n",
       "анемия <7                                                           198   \n",
       "неврологическая патология (тики, энурез) <7                         193   \n",
       "ОРВИ <7                                                             102   \n",
       "аллергические заболевания <7                                        180   \n",
       "аденоиды <7                                                         188   \n",
       "ангина <7                                                           183   \n",
       "трахеиты, бронхиты <7                                               150   \n",
       "кишечные инфекции <7                                                179   \n",
       "другое <7                                                           198   \n",
       "анемия >7                                                           192   \n",
       "неврологическая патология (тики, энурез) >7                         197   \n",
       "ОРВИ >7                                                             119   \n",
       "аллергические заболевания >7                                        189   \n",
       "аденоиды >7                                                         196   \n",
       "ангина >7                                                           190   \n",
       "трахеиты, бронхиты >7                                               139   \n",
       "кишечные инфекции >7                                                186   \n",
       "другое >7                                                           198   \n",
       "Атопический дерматит                                                192   \n",
       "Тубинфецирование                                                    196   \n",
       "Заболевание ЖКТ                                                     189   \n",
       "Нарушение осанки                                                    196   \n",
       "Бронхиальная астма                                                  199   \n",
       "ЛОР-заболевания                                                     193   \n",
       "Другая патология (указать)                                          196   \n",
       "Нет хронических                                                      53   \n",
       "тем37,2-38                                                           80   \n",
       "темп 38,1-39                                                        158   \n",
       "тем39,1-40                                                          193   \n",
       "темп >41                                                            201   \n",
       "Кашель                                                              150   \n",
       "Насморк                                                             102   \n",
       "Заложенность носа                                                    82   \n",
       "Потеря обоняния                                                     165   \n",
       "Затрудненное дыхание                                                195   \n",
       "першение в горле                                                    141   \n",
       "утомляемость                                                        142   \n",
       "базофилы                                                            194   \n",
       "\n",
       "                                                  Неболевшие – да  \\\n",
       "Осложнения при беременности                                    15   \n",
       "Болезни матери во время беременности                           15   \n",
       "Осложнения в родах                                              9   \n",
       "Принимал ли ваш ребенок витамин D                              58   \n",
       "Были клинические симптомы COVID-19 у ребенка                   23   \n",
       "Находился ли ребенок на карантине из-за COVID-19                7   \n",
       "анемия <3                                                       6   \n",
       "неврологическая патология (тики, энурез) <3                     3   \n",
       "ОРВИ <3                                                        16   \n",
       "аллергические заболевания <3                                    7   \n",
       "аденоиды <3                                                     2   \n",
       "ангина <3                                                       4   \n",
       "трахеиты, бронхиты <3                                           9   \n",
       "кишечные инфекции <3                                            5   \n",
       "другое <3                                                       1   \n",
       "анемия <7                                                       4   \n",
       "неврологическая патология (тики, энурез) <7                     1   \n",
       "ОРВИ <7                                                        42   \n",
       "аллергические заболевания <7                                    4   \n",
       "аденоиды <7                                                     2   \n",
       "ангина <7                                                       5   \n",
       "трахеиты, бронхиты <7                                          10   \n",
       "кишечные инфекции <7                                            7   \n",
       "другое <7                                                       2   \n",
       "анемия >7                                                       2   \n",
       "неврологическая патология (тики, энурез) >7                     0   \n",
       "ОРВИ >7                                                        22   \n",
       "аллергические заболевания >7                                    2   \n",
       "аденоиды >7                                                     0   \n",
       "ангина >7                                                       4   \n",
       "трахеиты, бронхиты >7                                           7   \n",
       "кишечные инфекции >7                                            2   \n",
       "другое >7                                                       0   \n",
       "Атопический дерматит                                            3   \n",
       "Тубинфецирование                                                0   \n",
       "Заболевание ЖКТ                                                 0   \n",
       "Нарушение осанки                                                1   \n",
       "Бронхиальная астма                                              0   \n",
       "ЛОР-заболевания                                                 6   \n",
       "Другая патология (указать)                                      4   \n",
       "Нет хронических                                                 1   \n",
       "тем37,2-38                                                     10   \n",
       "темп 38,1-39                                                   10   \n",
       "тем39,1-40                                                      2   \n",
       "темп >41                                                        0   \n",
       "Кашель                                                         11   \n",
       "Насморк                                                        16   \n",
       "Заложенность носа                                              10   \n",
       "Потеря обоняния                                                 5   \n",
       "Затрудненное дыхание                                            0   \n",
       "першение в горле                                                8   \n",
       "утомляемость                                                   55   \n",
       "базофилы                                                        0   \n",
       "\n",
       "                                                  Неболевшие – нет  \n",
       "Осложнения при беременности                                     47  \n",
       "Болезни матери во время беременности                            47  \n",
       "Осложнения в родах                                              53  \n",
       "Принимал ли ваш ребенок витамин D                                4  \n",
       "Были клинические симптомы COVID-19 у ребенка                    39  \n",
       "Находился ли ребенок на карантине из-за COVID-19                55  \n",
       "анемия <3                                                       56  \n",
       "неврологическая патология (тики, энурез) <3                     59  \n",
       "ОРВИ <3                                                         46  \n",
       "аллергические заболевания <3                                    55  \n",
       "аденоиды <3                                                     60  \n",
       "ангина <3                                                       58  \n",
       "трахеиты, бронхиты <3                                           53  \n",
       "кишечные инфекции <3                                            57  \n",
       "другое <3                                                       61  \n",
       "анемия <7                                                       58  \n",
       "неврологическая патология (тики, энурез) <7                     61  \n",
       "ОРВИ <7                                                         20  \n",
       "аллергические заболевания <7                                    58  \n",
       "аденоиды <7                                                     60  \n",
       "ангина <7                                                       57  \n",
       "трахеиты, бронхиты <7                                           52  \n",
       "кишечные инфекции <7                                            55  \n",
       "другое <7                                                       60  \n",
       "анемия >7                                                       60  \n",
       "неврологическая патология (тики, энурез) >7                     62  \n",
       "ОРВИ >7                                                         40  \n",
       "аллергические заболевания >7                                    60  \n",
       "аденоиды >7                                                     62  \n",
       "ангина >7                                                       58  \n",
       "трахеиты, бронхиты >7                                           55  \n",
       "кишечные инфекции >7                                            60  \n",
       "другое >7                                                       62  \n",
       "Атопический дерматит                                            59  \n",
       "Тубинфецирование                                                62  \n",
       "Заболевание ЖКТ                                                 62  \n",
       "Нарушение осанки                                                61  \n",
       "Бронхиальная астма                                              62  \n",
       "ЛОР-заболевания                                                 56  \n",
       "Другая патология (указать)                                      58  \n",
       "Нет хронических                                                 61  \n",
       "тем37,2-38                                                      52  \n",
       "темп 38,1-39                                                    52  \n",
       "тем39,1-40                                                      60  \n",
       "темп >41                                                        62  \n",
       "Кашель                                                          51  \n",
       "Насморк                                                         46  \n",
       "Заложенность носа                                               52  \n",
       "Потеря обоняния                                                 57  \n",
       "Затрудненное дыхание                                            62  \n",
       "першение в горле                                                54  \n",
       "утомляемость                                                     7  \n",
       "базофилы                                                        62  "
      ]
     },
     "execution_count": 106,
     "metadata": {},
     "output_type": "execute_result"
    }
   ],
   "source": [
    "cat_df"
   ]
  },
  {
   "cell_type": "code",
   "execution_count": 36,
   "id": "fd7ecc33",
   "metadata": {},
   "outputs": [],
   "source": [
    "a = dis[dis[cat_param_y[0]] == 'да'].loc[:, cat_param_y[0]].count()\n",
    "b = len(dis.loc[:, cat_param_y[0]]) - a\n",
    "c = hlth[hlth[cat_param_y[0]] == 'да'].loc[:, cat_param_y[0]].count()\n",
    "d = len(hlth.loc[:, cat_param_y[0]]) - c"
   ]
  },
  {
   "cell_type": "code",
   "execution_count": 37,
   "id": "dd0ee093",
   "metadata": {},
   "outputs": [
    {
     "data": {
      "text/plain": [
       "(103, 98, 15, 47)"
      ]
     },
     "execution_count": 37,
     "metadata": {},
     "output_type": "execute_result"
    }
   ],
   "source": [
    "a, b, c, d"
   ]
  },
  {
   "cell_type": "code",
   "execution_count": null,
   "id": "88708cdf",
   "metadata": {},
   "outputs": [],
   "source": [
    "for p in parametres:\n",
    "    "
   ]
  },
  {
   "cell_type": "code",
   "execution_count": 22,
   "id": "d4aad7db",
   "metadata": {},
   "outputs": [
    {
     "data": {
      "image/png": "[encoded data removed]",
      "text/plain": [
       "<Figure size 700x400 with 1 Axes>"
      ]
     },
     "metadata": {},
     "output_type": "display_data"
    }
   ],
   "source": [
    "h, d = [25, 25], [60, 40]\n",
    "barplot(h, d)"
   ]
  },
  {
   "cell_type": "code",
   "execution_count": 23,
   "id": "a2a01411",
   "metadata": {},
   "outputs": [
    {
     "data": {
      "text/plain": [
       "'1.5 (CI 0.76–2.97)'"
      ]
     },
     "execution_count": 23,
     "metadata": {},
     "output_type": "execute_result"
    }
   ],
   "source": [
    "odds_ratio(d, h)"
   ]
  },
  {
   "cell_type": "code",
   "execution_count": 169,
   "id": "76deb0ba",
   "metadata": {},
   "outputs": [
    {
     "data": {
      "image/png": "[encoded data removed]",
      "text/plain": [
       "<Figure size 700x400 with 1 Axes>"
      ]
     },
     "metadata": {},
     "output_type": "display_data"
    }
   ],
   "source": [
    "# Заготовка под график (барплот) для нескольких переменных\n",
    "\n",
    "# тут нужен кастомизированный набор в зависимости от количества переменных n\n",
    "h, d = [[25, 25], [30, 20], [20, 30]], [[60, 40], [90, 10], [50, 50]]\n",
    "\n",
    "# пример для n = 3\n",
    "x = ['Неболевшие1', 'Реконвалесценты1', 'Неболевшие2', 'Реконвалесценты2', 'Неболевшие3', 'Реконвалесценты3']\n",
    "y1 = [[h[i][0], d[i][0]] for i in range(3)]  #  event\n",
    "y2 = [[h[i][1], d[i][1]] for i in range(3)]  # no event\n",
    "\n",
    "y1, y2 = list(chain(*y1)), list(chain(*y2))  # flattering of the list\n",
    "\n",
    "fig, ax = plt.subplots()\n",
    "\n",
    "ax.bar(x, y1, width=0.8)\n",
    "ax.bar(x, y2, bottom = y1, width=0.8)\n",
    "\n",
    "fig.set_figwidth(7)    #  ширина и\n",
    "fig.set_figheight(4)    #  высота \"Figure\"\n",
    "fig.set_facecolor('floralwhite')\n",
    "ax.set_facecolor('seashell')\n",
    "plt.legend(['event', 'no event'], loc='upper left')\n",
    "plt.xticks(rotation=90)\n",
    "\n",
    "plt.show()"
   ]
  },
  {
   "cell_type": "code",
   "execution_count": 32,
   "id": "4bee7cfb",
   "metadata": {},
   "outputs": [
    {
     "data": {
      "text/plain": [
       "'0.6 (CI 0.24–1.47)'"
      ]
     },
     "execution_count": 32,
     "metadata": {},
     "output_type": "execute_result"
    }
   ],
   "source": [
    "odds_ratio([34, 16], [39, 11])"
   ]
  },
  {
   "cell_type": "code",
   "execution_count": null,
   "id": "eb5e33e2",
   "metadata": {},
   "outputs": [],
   "source": []
  }
 ],
 "metadata": {
  "kernelspec": {
   "display_name": "Python 3 (ipykernel)",
   "language": "python",
   "name": "python3"
  },
  "language_info": {
   "codemirror_mode": {
    "name": "ipython",
    "version": 3
   },
   "file_extension": ".py",
   "mimetype": "text/x-python",
   "name": "python",
   "nbconvert_exporter": "python",
   "pygments_lexer": "ipython3",
   "version": "3.8.8"
  }
 },
 "nbformat": 4,
 "nbformat_minor": 5
}

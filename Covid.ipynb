{
 "cells": [
  {
   "cell_type": "code",
   "execution_count": 189,
   "id": "a8208b4f",
   "metadata": {},
   "outputs": [],
   "source": [
    "import pandas as pd\n",
    "import numpy as np\n",
    "import matplotlib.pyplot as plt\n",
    "import seaborn as sns\n",
    "from scipy.stats import levene, ttest_ind, mannwhitneyu\n",
    "import statsmodels.api as sma\n",
    "import statsmodels.stats as smst"
   ]
  },
  {
   "cell_type": "code",
   "execution_count": 341,
   "id": "cfc10a35",
   "metadata": {},
   "outputs": [],
   "source": [
    "# Test equality of variances\n",
    "\n",
    "def var_chk(ser1, ser2):\n",
    "    stats, bf = levene(ser1, ser2, center='median')\n",
    "    return round(bf, 3)"
   ]
  },
  {
   "cell_type": "code",
   "execution_count": 342,
   "id": "584998b7",
   "metadata": {},
   "outputs": [],
   "source": [
    "# Test normality\n",
    "\n",
    "def norm_chk(ser):\n",
    "    norm = smst.diagnostic.lilliefors(ser, pvalmethod='approx')[1]\n",
    "    return round(norm, 3)"
   ]
  },
  {
   "cell_type": "code",
   "execution_count": 343,
   "id": "f36c1223",
   "metadata": {},
   "outputs": [],
   "source": [
    "# Test two series for variance equality and normality; choose and apply compartible test\n",
    "\n",
    "def t_test(ser1, ser2, parameter):\n",
    "    \n",
    "    # Test the conditions\n",
    "    norm1, norm2 = norm_chk(ser1), norm_chk(ser2)  # p-values of Lilliefors tests\n",
    "    bf = var_chk(ser1, ser2)  # p-value of Brown-Forsithe test\n",
    "    normality = norm1 >= 0.05 and norm2 >= 0.05  # both samples are normal\n",
    "    var_eq = bf >= 0.05  # variances of samples are equal\n",
    "    \n",
    "    if var_eq and normality:\n",
    "        t = ttest_ind(ser1, ser2)  # Student's t-test\n",
    "        test = '2-сторонний t-тест Стьюдента'\n",
    "        \n",
    "    elif not var_eq and normality:\n",
    "        t = ttest_ind(ser1, ser2, equal_var = False)  # Welch t-test\n",
    "        test = '2-сторонний t-тест Уэлча'\n",
    "    \n",
    "    elif not normality:\n",
    "        t = mannwhitneyu(ser1, ser2)  # Mann-Whitney test\n",
    "        test = 'Тест Манна-Уитни'\n",
    "    \n",
    "    return [t[0], round(t[1], 3), test, norm1, norm2, bf]"
   ]
  },
  {
   "cell_type": "code",
   "execution_count": 348,
   "id": "9cbbe852",
   "metadata": {},
   "outputs": [],
   "source": [
    "#Plot the histograms and quantille-quantille\n",
    "\n",
    "def norm_plot(ser1, ser2, parameter):\n",
    "    \n",
    "    group = ['_Здор', '_Бол']\n",
    "    \n",
    "    for s in range(2):\n",
    "        ser = [ser1, ser2][s]\n",
    "    \n",
    "        # plot histogram of series\n",
    "        plt.hist(ser)\n",
    "        plt.savefig(parameter[:5] + group[s] + '_hist.png')\n",
    "        plt.clf()\n",
    "    \n",
    "        # plot q-q plot of series\n",
    "        fig = sma.qqplot(ser, fit=True, line=\"45\")\n",
    "        plt.savefig(parameter[:5] + group[s] + '_qq_plot.png')\n",
    "        plt.clf()"
   ]
  },
  {
   "cell_type": "code",
   "execution_count": 345,
   "id": "6578b11d",
   "metadata": {},
   "outputs": [],
   "source": [
    "def median_fill(ser):\n",
    "    m = ser.median()\n",
    "    for s in range(len(ser)):\n",
    "        if np.isnan(ser[s]): \n",
    "            ser.loc[s] = m\n",
    "    return ser"
   ]
  },
  {
   "cell_type": "code",
   "execution_count": 400,
   "id": "30fac176",
   "metadata": {},
   "outputs": [],
   "source": [
    "df = pd.read_csv('C:/Kotomin/StatWorks/Covid/Database.csv', sep='\\t')"
   ]
  },
  {
   "cell_type": "code",
   "execution_count": 401,
   "id": "bed8fdac",
   "metadata": {},
   "outputs": [],
   "source": [
    "# patients that had no COVID-19 at the time of screeneng\n",
    "hlth = df[df['COVID-19'] == 'нет'].reset_index(drop=True)\n",
    "\n",
    "# patients that had COVID-19 at the time of screeneng\n",
    "dis = df[df['COVID-19'] == 'да'].reset_index(drop=True)"
   ]
  },
  {
   "cell_type": "code",
   "execution_count": 273,
   "id": "965804d7",
   "metadata": {},
   "outputs": [],
   "source": [
    "parametres = df.columns.tolist()"
   ]
  },
  {
   "cell_type": "markdown",
   "id": "0f74ef06",
   "metadata": {},
   "source": [
    "## Демографические и антропометрические данные"
   ]
  },
  {
   "cell_type": "code",
   "execution_count": 391,
   "id": "0764005d",
   "metadata": {},
   "outputs": [],
   "source": [
    "dem_param = [parametres[3]] + parametres[9:12]"
   ]
  },
  {
   "cell_type": "code",
   "execution_count": 402,
   "id": "607cb358",
   "metadata": {},
   "outputs": [],
   "source": [
    "descr_hlth = hlth[dem_param[0]].astype({'Возраст': float})\n",
    "descr_hlth = round(descr_hlth.describe(), 2)\n",
    "descr_dis = dis[dem_param[0]].astype({'Возраст': float})\n",
    "descr_dis = round(descr_dis.describe(), 2)\n",
    "\n",
    "for p in dem_param[1:]:\n",
    "    d_hlth, d_dis = round(hlth[p].describe(), 2), round(dis[p].describe(), 2)\n",
    "    descr_hlth = pd.concat([descr_hlth, d_hlth], axis=1)\n",
    "    descr_dis = pd.concat([descr_dis, d_dis], axis=1)"
   ]
  },
  {
   "cell_type": "markdown",
   "id": "81e9de01",
   "metadata": {},
   "source": [
    "Неболевшие"
   ]
  },
  {
   "cell_type": "code",
   "execution_count": 420,
   "id": "8b3044a7",
   "metadata": {},
   "outputs": [
    {
     "data": {
      "text/html": [
       "<div>\n",
       "<style scoped>\n",
       "    .dataframe tbody tr th:only-of-type {\n",
       "        vertical-align: middle;\n",
       "    }\n",
       "\n",
       "    .dataframe tbody tr th {\n",
       "        vertical-align: top;\n",
       "    }\n",
       "\n",
       "    .dataframe thead th {\n",
       "        text-align: right;\n",
       "    }\n",
       "</style>\n",
       "<table border=\"1\" class=\"dataframe\">\n",
       "  <thead>\n",
       "    <tr style=\"text-align: right;\">\n",
       "      <th></th>\n",
       "      <th>Возраст</th>\n",
       "      <th>Рост</th>\n",
       "      <th>Вес</th>\n",
       "      <th>ИМТ</th>\n",
       "    </tr>\n",
       "  </thead>\n",
       "  <tbody>\n",
       "    <tr>\n",
       "      <th>count</th>\n",
       "      <td>62.00</td>\n",
       "      <td>62.00</td>\n",
       "      <td>62.00</td>\n",
       "      <td>62.00</td>\n",
       "    </tr>\n",
       "    <tr>\n",
       "      <th>mean</th>\n",
       "      <td>9.11</td>\n",
       "      <td>129.94</td>\n",
       "      <td>31.76</td>\n",
       "      <td>17.78</td>\n",
       "    </tr>\n",
       "    <tr>\n",
       "      <th>std</th>\n",
       "      <td>4.32</td>\n",
       "      <td>23.56</td>\n",
       "      <td>13.85</td>\n",
       "      <td>2.45</td>\n",
       "    </tr>\n",
       "    <tr>\n",
       "      <th>min</th>\n",
       "      <td>2.00</td>\n",
       "      <td>83.00</td>\n",
       "      <td>12.00</td>\n",
       "      <td>13.00</td>\n",
       "    </tr>\n",
       "    <tr>\n",
       "      <th>25%</th>\n",
       "      <td>5.00</td>\n",
       "      <td>107.00</td>\n",
       "      <td>19.00</td>\n",
       "      <td>15.98</td>\n",
       "    </tr>\n",
       "    <tr>\n",
       "      <th>50%</th>\n",
       "      <td>10.00</td>\n",
       "      <td>135.50</td>\n",
       "      <td>30.50</td>\n",
       "      <td>17.55</td>\n",
       "    </tr>\n",
       "    <tr>\n",
       "      <th>75%</th>\n",
       "      <td>12.75</td>\n",
       "      <td>148.25</td>\n",
       "      <td>40.00</td>\n",
       "      <td>19.88</td>\n",
       "    </tr>\n",
       "    <tr>\n",
       "      <th>max</th>\n",
       "      <td>17.00</td>\n",
       "      <td>166.00</td>\n",
       "      <td>64.00</td>\n",
       "      <td>25.00</td>\n",
       "    </tr>\n",
       "  </tbody>\n",
       "</table>\n",
       "</div>"
      ],
      "text/plain": [
       "       Возраст    Рост    Вес    ИМТ\n",
       "count    62.00   62.00  62.00  62.00\n",
       "mean      9.11  129.94  31.76  17.78\n",
       "std       4.32   23.56  13.85   2.45\n",
       "min       2.00   83.00  12.00  13.00\n",
       "25%       5.00  107.00  19.00  15.98\n",
       "50%      10.00  135.50  30.50  17.55\n",
       "75%      12.75  148.25  40.00  19.88\n",
       "max      17.00  166.00  64.00  25.00"
      ]
     },
     "execution_count": 420,
     "metadata": {},
     "output_type": "execute_result"
    }
   ],
   "source": [
    "descr_hlth"
   ]
  },
  {
   "cell_type": "markdown",
   "id": "fe7b915f",
   "metadata": {},
   "source": [
    "Реконвалесценты"
   ]
  },
  {
   "cell_type": "code",
   "execution_count": 404,
   "id": "39d2c0a8",
   "metadata": {},
   "outputs": [
    {
     "data": {
      "text/html": [
       "<div>\n",
       "<style scoped>\n",
       "    .dataframe tbody tr th:only-of-type {\n",
       "        vertical-align: middle;\n",
       "    }\n",
       "\n",
       "    .dataframe tbody tr th {\n",
       "        vertical-align: top;\n",
       "    }\n",
       "\n",
       "    .dataframe thead th {\n",
       "        text-align: right;\n",
       "    }\n",
       "</style>\n",
       "<table border=\"1\" class=\"dataframe\">\n",
       "  <thead>\n",
       "    <tr style=\"text-align: right;\">\n",
       "      <th></th>\n",
       "      <th>Возраст</th>\n",
       "      <th>Рост</th>\n",
       "      <th>Вес</th>\n",
       "      <th>ИМТ</th>\n",
       "    </tr>\n",
       "  </thead>\n",
       "  <tbody>\n",
       "    <tr>\n",
       "      <th>count</th>\n",
       "      <td>201.00</td>\n",
       "      <td>200.00</td>\n",
       "      <td>200.00</td>\n",
       "      <td>200.00</td>\n",
       "    </tr>\n",
       "    <tr>\n",
       "      <th>mean</th>\n",
       "      <td>10.29</td>\n",
       "      <td>137.24</td>\n",
       "      <td>36.24</td>\n",
       "      <td>17.99</td>\n",
       "    </tr>\n",
       "    <tr>\n",
       "      <th>std</th>\n",
       "      <td>5.04</td>\n",
       "      <td>26.42</td>\n",
       "      <td>16.12</td>\n",
       "      <td>3.11</td>\n",
       "    </tr>\n",
       "    <tr>\n",
       "      <th>min</th>\n",
       "      <td>0.17</td>\n",
       "      <td>58.00</td>\n",
       "      <td>5.00</td>\n",
       "      <td>11.50</td>\n",
       "    </tr>\n",
       "    <tr>\n",
       "      <th>25%</th>\n",
       "      <td>6.00</td>\n",
       "      <td>124.00</td>\n",
       "      <td>22.00</td>\n",
       "      <td>15.90</td>\n",
       "    </tr>\n",
       "    <tr>\n",
       "      <th>50%</th>\n",
       "      <td>11.00</td>\n",
       "      <td>146.50</td>\n",
       "      <td>39.00</td>\n",
       "      <td>17.80</td>\n",
       "    </tr>\n",
       "    <tr>\n",
       "      <th>75%</th>\n",
       "      <td>15.00</td>\n",
       "      <td>156.25</td>\n",
       "      <td>49.00</td>\n",
       "      <td>20.10</td>\n",
       "    </tr>\n",
       "    <tr>\n",
       "      <th>max</th>\n",
       "      <td>17.00</td>\n",
       "      <td>174.00</td>\n",
       "      <td>70.00</td>\n",
       "      <td>27.00</td>\n",
       "    </tr>\n",
       "  </tbody>\n",
       "</table>\n",
       "</div>"
      ],
      "text/plain": [
       "       Возраст    Рост     Вес     ИМТ\n",
       "count   201.00  200.00  200.00  200.00\n",
       "mean     10.29  137.24   36.24   17.99\n",
       "std       5.04   26.42   16.12    3.11\n",
       "min       0.17   58.00    5.00   11.50\n",
       "25%       6.00  124.00   22.00   15.90\n",
       "50%      11.00  146.50   39.00   17.80\n",
       "75%      15.00  156.25   49.00   20.10\n",
       "max      17.00  174.00   70.00   27.00"
      ]
     },
     "execution_count": 404,
     "metadata": {},
     "output_type": "execute_result"
    }
   ],
   "source": [
    "descr_dis"
   ]
  },
  {
   "cell_type": "markdown",
   "id": "17e8322d",
   "metadata": {},
   "source": [
    "## Анализ континуальных количественных переменных (continuous variables)"
   ]
  },
  {
   "cell_type": "code",
   "execution_count": 346,
   "id": "2839deb6",
   "metadata": {},
   "outputs": [
    {
     "data": {
      "text/plain": [
       "[85, 86]"
      ]
     },
     "execution_count": 346,
     "metadata": {},
     "output_type": "execute_result"
    }
   ],
   "source": [
    "[parametres.index('базофилы'), parametres.index('эозинофилы')]  # Придумать, что с ними делать"
   ]
  },
  {
   "cell_type": "code",
   "execution_count": 338,
   "id": "206330ee",
   "metadata": {},
   "outputs": [],
   "source": [
    "#Descriptive statistics for continuous variables\n",
    "\n",
    "cont_param = parametres[81:85] + parametres[87:91]\n",
    "\n",
    "descr_hlth = round(hlth[cont_param[0]].describe(), 3)\n",
    "descr_dis = round(dis[cont_param[0]].describe(), 3)\n",
    "\n",
    "for p in cont_param[1:]:\n",
    "    d_hlth, d_dis = round(hlth[p].describe(), 3), round(dis[p].describe(), 3)\n",
    "    descr_hlth = pd.concat([descr_hlth, d_hlth], axis=1)\n",
    "    descr_dis = pd.concat([descr_dis, d_dis], axis=1)"
   ]
  },
  {
   "cell_type": "markdown",
   "id": "afdf9b4f",
   "metadata": {},
   "source": [
    "Неболевшие"
   ]
  },
  {
   "cell_type": "code",
   "execution_count": 339,
   "id": "8a0919d3",
   "metadata": {},
   "outputs": [
    {
     "data": {
      "text/html": [
       "<div>\n",
       "<style scoped>\n",
       "    .dataframe tbody tr th:only-of-type {\n",
       "        vertical-align: middle;\n",
       "    }\n",
       "\n",
       "    .dataframe tbody tr th {\n",
       "        vertical-align: top;\n",
       "    }\n",
       "\n",
       "    .dataframe thead th {\n",
       "        text-align: right;\n",
       "    }\n",
       "</style>\n",
       "<table border=\"1\" class=\"dataframe\">\n",
       "  <thead>\n",
       "    <tr style=\"text-align: right;\">\n",
       "      <th></th>\n",
       "      <th>гемоглобин Г/л</th>\n",
       "      <th>эритроциты</th>\n",
       "      <th>лейкоциты</th>\n",
       "      <th>тромбоциты</th>\n",
       "      <th>нейтрофилы</th>\n",
       "      <th>лимфоциты</th>\n",
       "      <th>моноциты</th>\n",
       "      <th>СОЭ</th>\n",
       "    </tr>\n",
       "  </thead>\n",
       "  <tbody>\n",
       "    <tr>\n",
       "      <th>count</th>\n",
       "      <td>62.000</td>\n",
       "      <td>62.000</td>\n",
       "      <td>62.000</td>\n",
       "      <td>62.000</td>\n",
       "      <td>62.000</td>\n",
       "      <td>62.000</td>\n",
       "      <td>62.000</td>\n",
       "      <td>62.000</td>\n",
       "    </tr>\n",
       "    <tr>\n",
       "      <th>mean</th>\n",
       "      <td>123.774</td>\n",
       "      <td>4.403</td>\n",
       "      <td>8.203</td>\n",
       "      <td>298.694</td>\n",
       "      <td>48.613</td>\n",
       "      <td>41.613</td>\n",
       "      <td>6.855</td>\n",
       "      <td>9.145</td>\n",
       "    </tr>\n",
       "    <tr>\n",
       "      <th>std</th>\n",
       "      <td>9.589</td>\n",
       "      <td>0.706</td>\n",
       "      <td>3.164</td>\n",
       "      <td>110.013</td>\n",
       "      <td>14.296</td>\n",
       "      <td>15.837</td>\n",
       "      <td>2.745</td>\n",
       "      <td>3.328</td>\n",
       "    </tr>\n",
       "    <tr>\n",
       "      <th>min</th>\n",
       "      <td>90.000</td>\n",
       "      <td>2.450</td>\n",
       "      <td>2.700</td>\n",
       "      <td>115.000</td>\n",
       "      <td>20.000</td>\n",
       "      <td>11.000</td>\n",
       "      <td>1.000</td>\n",
       "      <td>4.000</td>\n",
       "    </tr>\n",
       "    <tr>\n",
       "      <th>25%</th>\n",
       "      <td>120.750</td>\n",
       "      <td>4.000</td>\n",
       "      <td>6.125</td>\n",
       "      <td>225.000</td>\n",
       "      <td>36.000</td>\n",
       "      <td>29.000</td>\n",
       "      <td>5.000</td>\n",
       "      <td>7.000</td>\n",
       "    </tr>\n",
       "    <tr>\n",
       "      <th>50%</th>\n",
       "      <td>124.000</td>\n",
       "      <td>4.450</td>\n",
       "      <td>7.700</td>\n",
       "      <td>260.000</td>\n",
       "      <td>47.500</td>\n",
       "      <td>42.000</td>\n",
       "      <td>7.000</td>\n",
       "      <td>9.000</td>\n",
       "    </tr>\n",
       "    <tr>\n",
       "      <th>75%</th>\n",
       "      <td>130.000</td>\n",
       "      <td>4.855</td>\n",
       "      <td>10.200</td>\n",
       "      <td>360.000</td>\n",
       "      <td>63.000</td>\n",
       "      <td>54.000</td>\n",
       "      <td>9.000</td>\n",
       "      <td>11.000</td>\n",
       "    </tr>\n",
       "    <tr>\n",
       "      <th>max</th>\n",
       "      <td>142.000</td>\n",
       "      <td>6.100</td>\n",
       "      <td>15.600</td>\n",
       "      <td>584.000</td>\n",
       "      <td>74.000</td>\n",
       "      <td>75.000</td>\n",
       "      <td>14.000</td>\n",
       "      <td>21.000</td>\n",
       "    </tr>\n",
       "  </tbody>\n",
       "</table>\n",
       "</div>"
      ],
      "text/plain": [
       "       гемоглобин Г/л  эритроциты  лейкоциты  тромбоциты  нейтрофилы  \\\n",
       "count          62.000      62.000     62.000      62.000      62.000   \n",
       "mean          123.774       4.403      8.203     298.694      48.613   \n",
       "std             9.589       0.706      3.164     110.013      14.296   \n",
       "min            90.000       2.450      2.700     115.000      20.000   \n",
       "25%           120.750       4.000      6.125     225.000      36.000   \n",
       "50%           124.000       4.450      7.700     260.000      47.500   \n",
       "75%           130.000       4.855     10.200     360.000      63.000   \n",
       "max           142.000       6.100     15.600     584.000      74.000   \n",
       "\n",
       "       лимфоциты  моноциты     СОЭ  \n",
       "count     62.000    62.000  62.000  \n",
       "mean      41.613     6.855   9.145  \n",
       "std       15.837     2.745   3.328  \n",
       "min       11.000     1.000   4.000  \n",
       "25%       29.000     5.000   7.000  \n",
       "50%       42.000     7.000   9.000  \n",
       "75%       54.000     9.000  11.000  \n",
       "max       75.000    14.000  21.000  "
      ]
     },
     "execution_count": 339,
     "metadata": {},
     "output_type": "execute_result"
    }
   ],
   "source": [
    "descr_hlth"
   ]
  },
  {
   "cell_type": "markdown",
   "id": "c8e31f12",
   "metadata": {},
   "source": [
    "Реконвалесценты"
   ]
  },
  {
   "cell_type": "code",
   "execution_count": 340,
   "id": "f43a5d4f",
   "metadata": {},
   "outputs": [
    {
     "data": {
      "text/html": [
       "<div>\n",
       "<style scoped>\n",
       "    .dataframe tbody tr th:only-of-type {\n",
       "        vertical-align: middle;\n",
       "    }\n",
       "\n",
       "    .dataframe tbody tr th {\n",
       "        vertical-align: top;\n",
       "    }\n",
       "\n",
       "    .dataframe thead th {\n",
       "        text-align: right;\n",
       "    }\n",
       "</style>\n",
       "<table border=\"1\" class=\"dataframe\">\n",
       "  <thead>\n",
       "    <tr style=\"text-align: right;\">\n",
       "      <th></th>\n",
       "      <th>гемоглобин Г/л</th>\n",
       "      <th>эритроциты</th>\n",
       "      <th>лейкоциты</th>\n",
       "      <th>тромбоциты</th>\n",
       "      <th>нейтрофилы</th>\n",
       "      <th>лимфоциты</th>\n",
       "      <th>моноциты</th>\n",
       "      <th>СОЭ</th>\n",
       "    </tr>\n",
       "  </thead>\n",
       "  <tbody>\n",
       "    <tr>\n",
       "      <th>count</th>\n",
       "      <td>201.000</td>\n",
       "      <td>201.000</td>\n",
       "      <td>201.000</td>\n",
       "      <td>201.00</td>\n",
       "      <td>201.000</td>\n",
       "      <td>201.000</td>\n",
       "      <td>201.000</td>\n",
       "      <td>201.000</td>\n",
       "    </tr>\n",
       "    <tr>\n",
       "      <th>mean</th>\n",
       "      <td>118.139</td>\n",
       "      <td>4.191</td>\n",
       "      <td>7.955</td>\n",
       "      <td>235.95</td>\n",
       "      <td>48.368</td>\n",
       "      <td>43.960</td>\n",
       "      <td>6.403</td>\n",
       "      <td>6.418</td>\n",
       "    </tr>\n",
       "    <tr>\n",
       "      <th>std</th>\n",
       "      <td>12.964</td>\n",
       "      <td>0.673</td>\n",
       "      <td>2.718</td>\n",
       "      <td>86.53</td>\n",
       "      <td>15.484</td>\n",
       "      <td>15.042</td>\n",
       "      <td>2.363</td>\n",
       "      <td>4.217</td>\n",
       "    </tr>\n",
       "    <tr>\n",
       "      <th>min</th>\n",
       "      <td>11.000</td>\n",
       "      <td>2.800</td>\n",
       "      <td>3.900</td>\n",
       "      <td>100.00</td>\n",
       "      <td>11.000</td>\n",
       "      <td>7.000</td>\n",
       "      <td>3.000</td>\n",
       "      <td>2.000</td>\n",
       "    </tr>\n",
       "    <tr>\n",
       "      <th>25%</th>\n",
       "      <td>112.000</td>\n",
       "      <td>3.700</td>\n",
       "      <td>5.600</td>\n",
       "      <td>180.00</td>\n",
       "      <td>37.000</td>\n",
       "      <td>33.000</td>\n",
       "      <td>6.000</td>\n",
       "      <td>4.000</td>\n",
       "    </tr>\n",
       "    <tr>\n",
       "      <th>50%</th>\n",
       "      <td>120.000</td>\n",
       "      <td>4.100</td>\n",
       "      <td>7.600</td>\n",
       "      <td>224.00</td>\n",
       "      <td>50.000</td>\n",
       "      <td>43.000</td>\n",
       "      <td>6.000</td>\n",
       "      <td>5.000</td>\n",
       "    </tr>\n",
       "    <tr>\n",
       "      <th>75%</th>\n",
       "      <td>125.000</td>\n",
       "      <td>4.700</td>\n",
       "      <td>10.200</td>\n",
       "      <td>260.00</td>\n",
       "      <td>59.000</td>\n",
       "      <td>56.000</td>\n",
       "      <td>6.000</td>\n",
       "      <td>8.000</td>\n",
       "    </tr>\n",
       "    <tr>\n",
       "      <th>max</th>\n",
       "      <td>154.000</td>\n",
       "      <td>5.800</td>\n",
       "      <td>13.600</td>\n",
       "      <td>450.00</td>\n",
       "      <td>86.000</td>\n",
       "      <td>78.000</td>\n",
       "      <td>20.000</td>\n",
       "      <td>23.000</td>\n",
       "    </tr>\n",
       "  </tbody>\n",
       "</table>\n",
       "</div>"
      ],
      "text/plain": [
       "       гемоглобин Г/л  эритроциты  лейкоциты  тромбоциты  нейтрофилы  \\\n",
       "count         201.000     201.000    201.000      201.00     201.000   \n",
       "mean          118.139       4.191      7.955      235.95      48.368   \n",
       "std            12.964       0.673      2.718       86.53      15.484   \n",
       "min            11.000       2.800      3.900      100.00      11.000   \n",
       "25%           112.000       3.700      5.600      180.00      37.000   \n",
       "50%           120.000       4.100      7.600      224.00      50.000   \n",
       "75%           125.000       4.700     10.200      260.00      59.000   \n",
       "max           154.000       5.800     13.600      450.00      86.000   \n",
       "\n",
       "       лимфоциты  моноциты      СОЭ  \n",
       "count    201.000   201.000  201.000  \n",
       "mean      43.960     6.403    6.418  \n",
       "std       15.042     2.363    4.217  \n",
       "min        7.000     3.000    2.000  \n",
       "25%       33.000     6.000    4.000  \n",
       "50%       43.000     6.000    5.000  \n",
       "75%       56.000     6.000    8.000  \n",
       "max       78.000    20.000   23.000  "
      ]
     },
     "execution_count": 340,
     "metadata": {},
     "output_type": "execute_result"
    }
   ],
   "source": [
    "descr_dis"
   ]
  },
  {
   "cell_type": "code",
   "execution_count": 315,
   "id": "7f285797",
   "metadata": {},
   "outputs": [],
   "source": [
    "# Table of results for continuous variables\n",
    "cont_result = pd.DataFrame(index=cont_param, columns=['Тестовая статистика', 'p-value', 'Вид теста', 'Lilliefors p здор.', 'Lilliefors p бол.', 'p variances (Brown-Forsithe test)'])\n",
    "\n",
    "# Fill the table\n",
    "for p in cont_param:\n",
    "    \n",
    "    # fill the skipped values by medians\n",
    "    hlth.loc[:, p] = median_fill(hlth.loc[:, p])\n",
    "    dis.loc[:, p] = median_fill(dis.loc[:, p])\n",
    "    \n",
    "    # table filling\n",
    "    cont_result.loc[p] = t_test(hlth[p], dis[p], p)"
   ]
  },
  {
   "cell_type": "code",
   "execution_count": 349,
   "id": "103a8f17",
   "metadata": {},
   "outputs": [
    {
     "data": {
      "text/plain": [
       "<Figure size 640x480 with 0 Axes>"
      ]
     },
     "metadata": {},
     "output_type": "display_data"
    },
    {
     "data": {
      "text/plain": [
       "<Figure size 640x480 with 0 Axes>"
      ]
     },
     "metadata": {},
     "output_type": "display_data"
    },
    {
     "data": {
      "text/plain": [
       "<Figure size 640x480 with 0 Axes>"
      ]
     },
     "metadata": {},
     "output_type": "display_data"
    },
    {
     "data": {
      "text/plain": [
       "<Figure size 640x480 with 0 Axes>"
      ]
     },
     "metadata": {},
     "output_type": "display_data"
    },
    {
     "data": {
      "text/plain": [
       "<Figure size 640x480 with 0 Axes>"
      ]
     },
     "metadata": {},
     "output_type": "display_data"
    },
    {
     "data": {
      "text/plain": [
       "<Figure size 640x480 with 0 Axes>"
      ]
     },
     "metadata": {},
     "output_type": "display_data"
    },
    {
     "data": {
      "text/plain": [
       "<Figure size 640x480 with 0 Axes>"
      ]
     },
     "metadata": {},
     "output_type": "display_data"
    },
    {
     "data": {
      "text/plain": [
       "<Figure size 640x480 with 0 Axes>"
      ]
     },
     "metadata": {},
     "output_type": "display_data"
    },
    {
     "data": {
      "text/plain": [
       "<Figure size 640x480 with 0 Axes>"
      ]
     },
     "metadata": {},
     "output_type": "display_data"
    },
    {
     "data": {
      "text/plain": [
       "<Figure size 640x480 with 0 Axes>"
      ]
     },
     "metadata": {},
     "output_type": "display_data"
    },
    {
     "data": {
      "text/plain": [
       "<Figure size 640x480 with 0 Axes>"
      ]
     },
     "metadata": {},
     "output_type": "display_data"
    },
    {
     "data": {
      "text/plain": [
       "<Figure size 640x480 with 0 Axes>"
      ]
     },
     "metadata": {},
     "output_type": "display_data"
    },
    {
     "data": {
      "text/plain": [
       "<Figure size 640x480 with 0 Axes>"
      ]
     },
     "metadata": {},
     "output_type": "display_data"
    },
    {
     "data": {
      "text/plain": [
       "<Figure size 640x480 with 0 Axes>"
      ]
     },
     "metadata": {},
     "output_type": "display_data"
    },
    {
     "data": {
      "text/plain": [
       "<Figure size 640x480 with 0 Axes>"
      ]
     },
     "metadata": {},
     "output_type": "display_data"
    },
    {
     "data": {
      "text/plain": [
       "<Figure size 640x480 with 0 Axes>"
      ]
     },
     "metadata": {},
     "output_type": "display_data"
    },
    {
     "data": {
      "text/plain": [
       "<Figure size 640x480 with 0 Axes>"
      ]
     },
     "metadata": {},
     "output_type": "display_data"
    }
   ],
   "source": [
    "# histogram and qq plot\n",
    "for p in cont_param:\n",
    "    norm_plot(hlth[p], dis[p], p)"
   ]
  },
  {
   "cell_type": "code",
   "execution_count": 310,
   "id": "7e2f94ae",
   "metadata": {},
   "outputs": [
    {
     "data": {
      "text/html": [
       "<div>\n",
       "<style scoped>\n",
       "    .dataframe tbody tr th:only-of-type {\n",
       "        vertical-align: middle;\n",
       "    }\n",
       "\n",
       "    .dataframe tbody tr th {\n",
       "        vertical-align: top;\n",
       "    }\n",
       "\n",
       "    .dataframe thead th {\n",
       "        text-align: right;\n",
       "    }\n",
       "</style>\n",
       "<table border=\"1\" class=\"dataframe\">\n",
       "  <thead>\n",
       "    <tr style=\"text-align: right;\">\n",
       "      <th></th>\n",
       "      <th>Тестовая статистика</th>\n",
       "      <th>p-value</th>\n",
       "      <th>Вид теста</th>\n",
       "      <th>Lilliefors p здор.</th>\n",
       "      <th>Lilliefors p бол.</th>\n",
       "      <th>p variances (Brown-Forsithe test)</th>\n",
       "    </tr>\n",
       "  </thead>\n",
       "  <tbody>\n",
       "    <tr>\n",
       "      <th>гемоглобин Г/л</th>\n",
       "      <td>8332.0</td>\n",
       "      <td>0.0</td>\n",
       "      <td>Тест Манна-Уитни</td>\n",
       "      <td>0.0</td>\n",
       "      <td>0.0</td>\n",
       "      <td>0.088</td>\n",
       "    </tr>\n",
       "    <tr>\n",
       "      <th>эритроциты</th>\n",
       "      <td>7495.0</td>\n",
       "      <td>0.016</td>\n",
       "      <td>Тест Манна-Уитни</td>\n",
       "      <td>0.097</td>\n",
       "      <td>0.0</td>\n",
       "      <td>0.662</td>\n",
       "    </tr>\n",
       "    <tr>\n",
       "      <th>лейкоциты</th>\n",
       "      <td>6509.0</td>\n",
       "      <td>0.596</td>\n",
       "      <td>Тест Манна-Уитни</td>\n",
       "      <td>0.03</td>\n",
       "      <td>0.0</td>\n",
       "      <td>0.248</td>\n",
       "    </tr>\n",
       "    <tr>\n",
       "      <th>тромбоциты</th>\n",
       "      <td>8480.0</td>\n",
       "      <td>0.0</td>\n",
       "      <td>Тест Манна-Уитни</td>\n",
       "      <td>0.001</td>\n",
       "      <td>0.0</td>\n",
       "      <td>0.013</td>\n",
       "    </tr>\n",
       "    <tr>\n",
       "      <th>нейтрофилы</th>\n",
       "      <td>6358.5</td>\n",
       "      <td>0.808</td>\n",
       "      <td>Тест Манна-Уитни</td>\n",
       "      <td>0.034</td>\n",
       "      <td>0.009</td>\n",
       "      <td>0.751</td>\n",
       "    </tr>\n",
       "    <tr>\n",
       "      <th>лимфоциты</th>\n",
       "      <td>5618.0</td>\n",
       "      <td>0.242</td>\n",
       "      <td>Тест Манна-Уитни</td>\n",
       "      <td>0.004</td>\n",
       "      <td>0.081</td>\n",
       "      <td>0.267</td>\n",
       "    </tr>\n",
       "    <tr>\n",
       "      <th>моноциты</th>\n",
       "      <td>7180.5</td>\n",
       "      <td>0.056</td>\n",
       "      <td>Тест Манна-Уитни</td>\n",
       "      <td>0.197</td>\n",
       "      <td>0.0</td>\n",
       "      <td>0.0</td>\n",
       "    </tr>\n",
       "    <tr>\n",
       "      <th>СОЭ</th>\n",
       "      <td>9527.0</td>\n",
       "      <td>0.0</td>\n",
       "      <td>Тест Манна-Уитни</td>\n",
       "      <td>0.068</td>\n",
       "      <td>0.0</td>\n",
       "      <td>0.839</td>\n",
       "    </tr>\n",
       "  </tbody>\n",
       "</table>\n",
       "</div>"
      ],
      "text/plain": [
       "               Тестовая статистика p-value         Вид теста  \\\n",
       "гемоглобин Г/л              8332.0     0.0  Тест Манна-Уитни   \n",
       "эритроциты                  7495.0   0.016  Тест Манна-Уитни   \n",
       "лейкоциты                   6509.0   0.596  Тест Манна-Уитни   \n",
       "тромбоциты                  8480.0     0.0  Тест Манна-Уитни   \n",
       "нейтрофилы                  6358.5   0.808  Тест Манна-Уитни   \n",
       "лимфоциты                   5618.0   0.242  Тест Манна-Уитни   \n",
       "моноциты                    7180.5   0.056  Тест Манна-Уитни   \n",
       "СОЭ                         9527.0     0.0  Тест Манна-Уитни   \n",
       "\n",
       "               Lilliefors p здор. Lilliefors p бол.  \\\n",
       "гемоглобин Г/л                0.0               0.0   \n",
       "эритроциты                  0.097               0.0   \n",
       "лейкоциты                    0.03               0.0   \n",
       "тромбоциты                  0.001               0.0   \n",
       "нейтрофилы                  0.034             0.009   \n",
       "лимфоциты                   0.004             0.081   \n",
       "моноциты                    0.197               0.0   \n",
       "СОЭ                         0.068               0.0   \n",
       "\n",
       "               p variances (Brown-Forsithe test)  \n",
       "гемоглобин Г/л                             0.088  \n",
       "эритроциты                                 0.662  \n",
       "лейкоциты                                  0.248  \n",
       "тромбоциты                                 0.013  \n",
       "нейтрофилы                                 0.751  \n",
       "лимфоциты                                  0.267  \n",
       "моноциты                                     0.0  \n",
       "СОЭ                                        0.839  "
      ]
     },
     "execution_count": 310,
     "metadata": {},
     "output_type": "execute_result"
    }
   ],
   "source": [
    "cont_result"
   ]
  },
  {
   "cell_type": "code",
   "execution_count": 417,
   "id": "69924d8a",
   "metadata": {},
   "outputs": [
    {
     "data": {
      "image/png": "[encoded data removed]",
      "text/plain": [
       "<Figure size 600x800 with 1 Axes>"
      ]
     },
     "metadata": {},
     "output_type": "display_data"
    },
    {
     "data": {
      "image/png": "[encoded data removed]",
      "text/plain": [
       "<Figure size 600x800 with 1 Axes>"
      ]
     },
     "metadata": {},
     "output_type": "display_data"
    },
    {
     "data": {
      "image/png": "[encoded data removed]",
      "text/plain": [
       "<Figure size 600x800 with 1 Axes>"
      ]
     },
     "metadata": {},
     "output_type": "display_data"
    },
    {
     "data": {
      "image/png": "[encoded data removed]",
      "text/plain": [
       "<Figure size 600x800 with 1 Axes>"
      ]
     },
     "metadata": {},
     "output_type": "display_data"
    },
    {
     "data": {
      "image/png": "[encoded data removed]",
      "text/plain": [
       "<Figure size 600x800 with 1 Axes>"
      ]
     },
     "metadata": {},
     "output_type": "display_data"
    },
    {
     "data": {
      "image/png": "[encoded data removed]",
      "text/plain": [
       "<Figure size 600x800 with 1 Axes>"
      ]
     },
     "metadata": {},
     "output_type": "display_data"
    },
    {
     "data": {
      "image/png": "[encoded data removed]",
      "text/plain": [
       "<Figure size 600x800 with 1 Axes>"
      ]
     },
     "metadata": {},
     "output_type": "display_data"
    },
    {
     "data": {
      "image/png": "[encoded data removed]",
      "text/plain": [
       "<Figure size 600x800 with 1 Axes>"
      ]
     },
     "metadata": {},
     "output_type": "display_data"
    }
   ],
   "source": [
    "# verticalization of dataframe\n",
    "\n",
    "vert_df = pd.DataFrame(columns=['Параметр', 'Величина', 'COVID-19'])\n",
    "for p in cont_param:\n",
    "    par_df = pd.Series([p for _ in range(len(df))], name='Параметр')  # for categorial scale\n",
    "    val_df = df[p]  # for continuous scale\n",
    "    val_df.name = 'Величина'\n",
    "    three_df = pd.concat([par_df, val_df, df['COVID-19']], axis=1)  # merge 3 columns in block\n",
    "    vert_df = pd.concat([vert_df, three_df], axis=0)  # merge blocks\n",
    "\n",
    "# Boxplot\n",
    "for p in cont_param:\n",
    "    sns.set_theme(style=\"ticks\")\n",
    "    f, ax = plt.subplots(figsize=(6, 8))\n",
    "\n",
    "    # Plot with vertical boxes\n",
    "    sns.boxplot(data=vert_df[vert_df['Параметр'] == p], x='Параметр', y='Величина', hue='COVID-19', \n",
    "                \n",
    "                orient='v', dodge=True, whis=[2.5, 97.5], width=.6, palette=\"vlag\")\n",
    "\n",
    "    # Add in points to show each observation\n",
    "    # sns.stripplot(data=vert_df, x='Параметр', y='Величина', hue='COVID-19', orient='v', size=4, color=\".3\", linewidth=0)\n",
    "\n",
    "    # Tweak the visual presentation\n",
    "    plt.grid(True)\n",
    "    plt.xticks(rotation=0)\n",
    "    ax.set(ylabel=\"Величина показателя\", xlabel=\"\")\n",
    "    sns.despine(trim=True, left=True)\n",
    "    plt.savefig(p[:7] + '.png')"
   ]
  },
  {
   "cell_type": "markdown",
   "id": "44c7cd37",
   "metadata": {},
   "source": [
    "## Дополнительные количественные параметры, которые есть только для 40 человек"
   ]
  },
  {
   "cell_type": "code",
   "execution_count": 336,
   "id": "2a565087",
   "metadata": {},
   "outputs": [],
   "source": [
    "dop_cont_param = parametres[91:95]\n",
    "\n",
    "descr_hlth = round(hlth[dop_cont_param[0]].describe(), 3)\n",
    "descr_dis = round(dis[dop_cont_param[0]].describe(), 3)\n",
    "\n",
    "for p in dop_cont_param[1:]:\n",
    "    d_hlth, d_dis = round(hlth[p].describe(), 3), round(dis[p].describe(), 3)\n",
    "    descr_hlth = pd.concat([descr_hlth, d_hlth], axis=1)\n",
    "    descr_dis = pd.concat([descr_dis, d_dis], axis=1)"
   ]
  },
  {
   "cell_type": "markdown",
   "id": "2ea5d649",
   "metadata": {},
   "source": [
    "Неболевшие"
   ]
  },
  {
   "cell_type": "code",
   "execution_count": 335,
   "id": "8b7bc09d",
   "metadata": {},
   "outputs": [
    {
     "data": {
      "text/html": [
       "<div>\n",
       "<style scoped>\n",
       "    .dataframe tbody tr th:only-of-type {\n",
       "        vertical-align: middle;\n",
       "    }\n",
       "\n",
       "    .dataframe tbody tr th {\n",
       "        vertical-align: top;\n",
       "    }\n",
       "\n",
       "    .dataframe thead th {\n",
       "        text-align: right;\n",
       "    }\n",
       "</style>\n",
       "<table border=\"1\" class=\"dataframe\">\n",
       "  <thead>\n",
       "    <tr style=\"text-align: right;\">\n",
       "      <th></th>\n",
       "      <th>железо сывороточное</th>\n",
       "      <th>вит Д3</th>\n",
       "      <th>IL-6</th>\n",
       "      <th>IL-10</th>\n",
       "    </tr>\n",
       "  </thead>\n",
       "  <tbody>\n",
       "    <tr>\n",
       "      <th>count</th>\n",
       "      <td>20.000</td>\n",
       "      <td>20.000</td>\n",
       "      <td>20.000</td>\n",
       "      <td>20.000</td>\n",
       "    </tr>\n",
       "    <tr>\n",
       "      <th>mean</th>\n",
       "      <td>10.368</td>\n",
       "      <td>23.615</td>\n",
       "      <td>3.180</td>\n",
       "      <td>22.989</td>\n",
       "    </tr>\n",
       "    <tr>\n",
       "      <th>std</th>\n",
       "      <td>4.681</td>\n",
       "      <td>14.896</td>\n",
       "      <td>10.406</td>\n",
       "      <td>52.104</td>\n",
       "    </tr>\n",
       "    <tr>\n",
       "      <th>min</th>\n",
       "      <td>1.790</td>\n",
       "      <td>7.800</td>\n",
       "      <td>0.040</td>\n",
       "      <td>0.200</td>\n",
       "    </tr>\n",
       "    <tr>\n",
       "      <th>25%</th>\n",
       "      <td>7.098</td>\n",
       "      <td>12.000</td>\n",
       "      <td>0.330</td>\n",
       "      <td>0.325</td>\n",
       "    </tr>\n",
       "    <tr>\n",
       "      <th>50%</th>\n",
       "      <td>10.495</td>\n",
       "      <td>23.100</td>\n",
       "      <td>0.540</td>\n",
       "      <td>0.750</td>\n",
       "    </tr>\n",
       "    <tr>\n",
       "      <th>75%</th>\n",
       "      <td>14.052</td>\n",
       "      <td>26.650</td>\n",
       "      <td>0.805</td>\n",
       "      <td>7.655</td>\n",
       "    </tr>\n",
       "    <tr>\n",
       "      <th>max</th>\n",
       "      <td>17.620</td>\n",
       "      <td>72.200</td>\n",
       "      <td>47.120</td>\n",
       "      <td>167.980</td>\n",
       "    </tr>\n",
       "  </tbody>\n",
       "</table>\n",
       "</div>"
      ],
      "text/plain": [
       "       железо сывороточное  вит Д3    IL-6    IL-10\n",
       "count               20.000  20.000  20.000   20.000\n",
       "mean                10.368  23.615   3.180   22.989\n",
       "std                  4.681  14.896  10.406   52.104\n",
       "min                  1.790   7.800   0.040    0.200\n",
       "25%                  7.098  12.000   0.330    0.325\n",
       "50%                 10.495  23.100   0.540    0.750\n",
       "75%                 14.052  26.650   0.805    7.655\n",
       "max                 17.620  72.200  47.120  167.980"
      ]
     },
     "execution_count": 335,
     "metadata": {},
     "output_type": "execute_result"
    }
   ],
   "source": [
    "descr_hlth"
   ]
  },
  {
   "cell_type": "markdown",
   "id": "a3421db2",
   "metadata": {},
   "source": [
    "Реконвалесценты"
   ]
  },
  {
   "cell_type": "code",
   "execution_count": 337,
   "id": "de10137f",
   "metadata": {},
   "outputs": [
    {
     "data": {
      "text/html": [
       "<div>\n",
       "<style scoped>\n",
       "    .dataframe tbody tr th:only-of-type {\n",
       "        vertical-align: middle;\n",
       "    }\n",
       "\n",
       "    .dataframe tbody tr th {\n",
       "        vertical-align: top;\n",
       "    }\n",
       "\n",
       "    .dataframe thead th {\n",
       "        text-align: right;\n",
       "    }\n",
       "</style>\n",
       "<table border=\"1\" class=\"dataframe\">\n",
       "  <thead>\n",
       "    <tr style=\"text-align: right;\">\n",
       "      <th></th>\n",
       "      <th>железо сывороточное</th>\n",
       "      <th>вит Д3</th>\n",
       "      <th>IL-6</th>\n",
       "      <th>IL-10</th>\n",
       "    </tr>\n",
       "  </thead>\n",
       "  <tbody>\n",
       "    <tr>\n",
       "      <th>count</th>\n",
       "      <td>20.000</td>\n",
       "      <td>20.000</td>\n",
       "      <td>20.000</td>\n",
       "      <td>20.000</td>\n",
       "    </tr>\n",
       "    <tr>\n",
       "      <th>mean</th>\n",
       "      <td>14.375</td>\n",
       "      <td>20.750</td>\n",
       "      <td>3.124</td>\n",
       "      <td>19.661</td>\n",
       "    </tr>\n",
       "    <tr>\n",
       "      <th>std</th>\n",
       "      <td>10.080</td>\n",
       "      <td>12.654</td>\n",
       "      <td>10.857</td>\n",
       "      <td>78.903</td>\n",
       "    </tr>\n",
       "    <tr>\n",
       "      <th>min</th>\n",
       "      <td>1.070</td>\n",
       "      <td>9.200</td>\n",
       "      <td>0.040</td>\n",
       "      <td>0.140</td>\n",
       "    </tr>\n",
       "    <tr>\n",
       "      <th>25%</th>\n",
       "      <td>6.725</td>\n",
       "      <td>12.875</td>\n",
       "      <td>0.175</td>\n",
       "      <td>0.280</td>\n",
       "    </tr>\n",
       "    <tr>\n",
       "      <th>50%</th>\n",
       "      <td>10.015</td>\n",
       "      <td>15.550</td>\n",
       "      <td>0.320</td>\n",
       "      <td>0.650</td>\n",
       "    </tr>\n",
       "    <tr>\n",
       "      <th>75%</th>\n",
       "      <td>22.145</td>\n",
       "      <td>22.375</td>\n",
       "      <td>1.000</td>\n",
       "      <td>1.865</td>\n",
       "    </tr>\n",
       "    <tr>\n",
       "      <th>max</th>\n",
       "      <td>34.460</td>\n",
       "      <td>64.200</td>\n",
       "      <td>48.940</td>\n",
       "      <td>354.380</td>\n",
       "    </tr>\n",
       "  </tbody>\n",
       "</table>\n",
       "</div>"
      ],
      "text/plain": [
       "       железо сывороточное  вит Д3    IL-6    IL-10\n",
       "count               20.000  20.000  20.000   20.000\n",
       "mean                14.375  20.750   3.124   19.661\n",
       "std                 10.080  12.654  10.857   78.903\n",
       "min                  1.070   9.200   0.040    0.140\n",
       "25%                  6.725  12.875   0.175    0.280\n",
       "50%                 10.015  15.550   0.320    0.650\n",
       "75%                 22.145  22.375   1.000    1.865\n",
       "max                 34.460  64.200  48.940  354.380"
      ]
     },
     "execution_count": 337,
     "metadata": {},
     "output_type": "execute_result"
    }
   ],
   "source": [
    "descr_dis"
   ]
  },
  {
   "cell_type": "code",
   "execution_count": 316,
   "id": "0691fbd5",
   "metadata": {},
   "outputs": [],
   "source": [
    "dop_cont_result = pd.DataFrame(index=dop_cont_param, columns=['Тестовая статистика', 'p-value', 'Вид теста', 'Lilliefors p здор.', 'Lilliefors p бол.', 'p variances (Brown-Forsithe test)'])\n",
    "nw_hlth, nw_dis = hlth, dis\n",
    "\n",
    "# Fill the table\n",
    "for p in dop_cont_param:\n",
    "    \n",
    "    # zeroing previous filters\n",
    "    nw_hlth, nw_dis = hlth, dis\n",
    "    \n",
    "    # filter real values\n",
    "    nw_hlth = hlth[hlth[p] > 0]\n",
    "    nw_dis = dis[dis[p] > 0]\n",
    "    \n",
    "    # table filling\n",
    "    dop_cont_result.loc[p] = t_test(nw_hlth[p], nw_dis[p], p)"
   ]
  },
  {
   "cell_type": "code",
   "execution_count": 351,
   "id": "6a8f940e",
   "metadata": {},
   "outputs": [
    {
     "data": {
      "text/plain": [
       "<Figure size 640x480 with 0 Axes>"
      ]
     },
     "metadata": {},
     "output_type": "display_data"
    },
    {
     "data": {
      "text/plain": [
       "<Figure size 640x480 with 0 Axes>"
      ]
     },
     "metadata": {},
     "output_type": "display_data"
    },
    {
     "data": {
      "text/plain": [
       "<Figure size 640x480 with 0 Axes>"
      ]
     },
     "metadata": {},
     "output_type": "display_data"
    },
    {
     "data": {
      "text/plain": [
       "<Figure size 640x480 with 0 Axes>"
      ]
     },
     "metadata": {},
     "output_type": "display_data"
    },
    {
     "data": {
      "text/plain": [
       "<Figure size 640x480 with 0 Axes>"
      ]
     },
     "metadata": {},
     "output_type": "display_data"
    },
    {
     "data": {
      "text/plain": [
       "<Figure size 640x480 with 0 Axes>"
      ]
     },
     "metadata": {},
     "output_type": "display_data"
    },
    {
     "data": {
      "text/plain": [
       "<Figure size 640x480 with 0 Axes>"
      ]
     },
     "metadata": {},
     "output_type": "display_data"
    },
    {
     "data": {
      "text/plain": [
       "<Figure size 640x480 with 0 Axes>"
      ]
     },
     "metadata": {},
     "output_type": "display_data"
    },
    {
     "data": {
      "text/plain": [
       "<Figure size 640x480 with 0 Axes>"
      ]
     },
     "metadata": {},
     "output_type": "display_data"
    }
   ],
   "source": [
    "# histogram and qq plot\n",
    "for p in dop_cont_param:\n",
    "    norm_plot(nw_hlth[p], nw_dis[p], p)"
   ]
  },
  {
   "cell_type": "code",
   "execution_count": 317,
   "id": "ab6554b2",
   "metadata": {
    "scrolled": true
   },
   "outputs": [
    {
     "data": {
      "text/html": [
       "<div>\n",
       "<style scoped>\n",
       "    .dataframe tbody tr th:only-of-type {\n",
       "        vertical-align: middle;\n",
       "    }\n",
       "\n",
       "    .dataframe tbody tr th {\n",
       "        vertical-align: top;\n",
       "    }\n",
       "\n",
       "    .dataframe thead th {\n",
       "        text-align: right;\n",
       "    }\n",
       "</style>\n",
       "<table border=\"1\" class=\"dataframe\">\n",
       "  <thead>\n",
       "    <tr style=\"text-align: right;\">\n",
       "      <th></th>\n",
       "      <th>Тестовая статистика</th>\n",
       "      <th>p-value</th>\n",
       "      <th>Вид теста</th>\n",
       "      <th>Lilliefors p здор.</th>\n",
       "      <th>Lilliefors p бол.</th>\n",
       "      <th>p variances (Brown-Forsithe test)</th>\n",
       "    </tr>\n",
       "  </thead>\n",
       "  <tbody>\n",
       "    <tr>\n",
       "      <th>железо сывороточное</th>\n",
       "      <td>-1.612333</td>\n",
       "      <td>0.119</td>\n",
       "      <td>2-сторонний t-тест Уэлча</td>\n",
       "      <td>0.468</td>\n",
       "      <td>0.051</td>\n",
       "      <td>0.016</td>\n",
       "    </tr>\n",
       "    <tr>\n",
       "      <th>вит Д3</th>\n",
       "      <td>227.5</td>\n",
       "      <td>0.465</td>\n",
       "      <td>Тест Манна-Уитни</td>\n",
       "      <td>0.021</td>\n",
       "      <td>0.017</td>\n",
       "      <td>0.549</td>\n",
       "    </tr>\n",
       "    <tr>\n",
       "      <th>IL-6</th>\n",
       "      <td>237.5</td>\n",
       "      <td>0.317</td>\n",
       "      <td>Тест Манна-Уитни</td>\n",
       "      <td>0.0</td>\n",
       "      <td>0.0</td>\n",
       "      <td>0.977</td>\n",
       "    </tr>\n",
       "    <tr>\n",
       "      <th>IL-10</th>\n",
       "      <td>224.0</td>\n",
       "      <td>0.524</td>\n",
       "      <td>Тест Манна-Уитни</td>\n",
       "      <td>0.0</td>\n",
       "      <td>0.0</td>\n",
       "      <td>0.877</td>\n",
       "    </tr>\n",
       "  </tbody>\n",
       "</table>\n",
       "</div>"
      ],
      "text/plain": [
       "                    Тестовая статистика p-value                 Вид теста  \\\n",
       "железо сывороточное           -1.612333   0.119  2-сторонний t-тест Уэлча   \n",
       "вит Д3                            227.5   0.465          Тест Манна-Уитни   \n",
       "IL-6                              237.5   0.317          Тест Манна-Уитни   \n",
       "IL-10                             224.0   0.524          Тест Манна-Уитни   \n",
       "\n",
       "                    Lilliefors p здор. Lilliefors p бол.  \\\n",
       "железо сывороточное              0.468             0.051   \n",
       "вит Д3                           0.021             0.017   \n",
       "IL-6                               0.0               0.0   \n",
       "IL-10                              0.0               0.0   \n",
       "\n",
       "                    p variances (Brown-Forsithe test)  \n",
       "железо сывороточное                             0.016  \n",
       "вит Д3                                          0.549  \n",
       "IL-6                                            0.977  \n",
       "IL-10                                           0.877  "
      ]
     },
     "execution_count": 317,
     "metadata": {},
     "output_type": "execute_result"
    }
   ],
   "source": [
    "dop_cont_result"
   ]
  },
  {
   "cell_type": "code",
   "execution_count": 416,
   "id": "3913075f",
   "metadata": {},
   "outputs": [
    {
     "data": {
      "image/png": "[encoded data removed]",
      "text/plain": [
       "<Figure size 600x800 with 1 Axes>"
      ]
     },
     "metadata": {},
     "output_type": "display_data"
    },
    {
     "data": {
      "image/png": "[encoded data removed]",
      "text/plain": [
       "<Figure size 600x800 with 1 Axes>"
      ]
     },
     "metadata": {},
     "output_type": "display_data"
    },
    {
     "data": {
      "image/png": "[encoded data removed]",
      "text/plain": [
       "<Figure size 600x800 with 1 Axes>"
      ]
     },
     "metadata": {},
     "output_type": "display_data"
    },
    {
     "data": {
      "image/png": "[encoded data removed]",
      "text/plain": [
       "<Figure size 600x800 with 1 Axes>"
      ]
     },
     "metadata": {},
     "output_type": "display_data"
    }
   ],
   "source": [
    "# verticalization of dataframe\n",
    "\n",
    "vert_df = pd.DataFrame(columns=['Параметр', 'Величина', 'COVID-19'])\n",
    "for p in dop_cont_param:\n",
    "    par_df = pd.Series([p for _ in range(len(df))], name='Параметр')  # for categorial scale\n",
    "    val_df = df[p]  # for continuous scale\n",
    "    val_df.name = 'Величина'\n",
    "    three_df = pd.concat([par_df, val_df, df['COVID-19']], axis=1)  # merge 3 columns in block\n",
    "    vert_df = pd.concat([vert_df, three_df], axis=0)  # merge blocks\n",
    "\n",
    "# Boxplot\n",
    "for p in dop_cont_param:\n",
    "    sns.set_theme(style=\"ticks\")\n",
    "    f, ax = plt.subplots(figsize=(6, 8))\n",
    "\n",
    "    # Plot with vertical boxes\n",
    "    sns.boxplot(data=vert_df[vert_df['Параметр'] == p], x='Параметр', y='Величина', hue='COVID-19', \n",
    "                \n",
    "                orient='v', dodge=True, whis=[2.5, 97.5], width=.6, palette=\"vlag\")\n",
    "\n",
    "    # Add in points to show each observation\n",
    "    # sns.stripplot(data=vert_df, x='Параметр', y='Величина', hue='COVID-19', orient='v', size=4, color=\".3\", linewidth=0)\n",
    "\n",
    "    # Tweak the visual presentation\n",
    "    plt.grid(True)\n",
    "    plt.xticks(rotation=0)\n",
    "    ax.set(ylabel=\"Величина показателя\", xlabel=\"\")\n",
    "    sns.despine(trim=True, left=True)\n",
    "    plt.savefig(p[:7] + '.png')"
   ]
  },
  {
   "cell_type": "code",
   "execution_count": null,
   "id": "1e5d6769",
   "metadata": {},
   "outputs": [],
   "source": []
  }
 ],
 "metadata": {
  "kernelspec": {
   "display_name": "Python 3 (ipykernel)",
   "language": "python",
   "name": "python3"
  },
  "language_info": {
   "codemirror_mode": {
    "name": "ipython",
    "version": 3
   },
   "file_extension": ".py",
   "mimetype": "text/x-python",
   "name": "python",
   "nbconvert_exporter": "python",
   "pygments_lexer": "ipython3",
   "version": "3.8.8"
  }
 },
 "nbformat": 4,
 "nbformat_minor": 5
}
